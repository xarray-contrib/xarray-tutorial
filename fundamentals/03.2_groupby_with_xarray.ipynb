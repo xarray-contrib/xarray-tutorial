{
 "cells": [
  {
   "cell_type": "markdown",
   "metadata": {},
   "source": [
    "# Grouped Computations\n",
    "\n",
    "In this lesson, we discuss how to do scientific computations with defined \"groups\" of data\n",
    "within our xarray objects. Our learning goals are as follows:\n",
    "\n",
    "- Perform \"split / apply / combine\" workflows in Xarray using `groupby`,\n",
    "  including\n",
    "  - reductions within groups\n",
    "  - transformations on groups\n",
    "- Use `resample` to change the time frequency of the data\n"
   ]
  },
  {
   "cell_type": "code",
   "execution_count": null,
   "metadata": {},
   "outputs": [],
   "source": [
    "import numpy as np\n",
    "import xarray as xr\n",
    "import matplotlib.pyplot as plt\n",
    "\n",
    "# don't expand data by default\n",
    "xr.set_options(display_expand_data=False, display_expand_attrs=False)\n",
    "\n",
    "%config InlineBackend.figure_format='retina'"
   ]
  },
  {
   "cell_type": "markdown",
   "metadata": {},
   "source": [
    "## Example Dataset\n",
    "\n",
    "First we load a dataset. We will use the\n",
    "[NOAA Extended Reconstructed Sea Surface Temperature (ERSST) v5](https://www.ncei.noaa.gov/products/extended-reconstructed-sst)\n",
    "product, a widely used and trusted gridded compilation of of historical data\n",
    "going back to 1854."
   ]
  },
  {
   "cell_type": "code",
   "execution_count": null,
   "metadata": {},
   "outputs": [],
   "source": [
    "ds = xr.tutorial.load_dataset(\"ersstv5\")\n",
    "ds"
   ]
  },
  {
   "cell_type": "markdown",
   "metadata": {},
   "source": [
    "## Groupby\n",
    "\n",
    "Xarray copies Pandas' very useful groupby functionality, enabling the \"split /\n",
    "apply / combine\" workflow on xarray DataArrays and Datasets.\n",
    "\n",
    "Let's examine a timeseries of SST at\n",
    "a single point.\n"
   ]
  },
  {
   "cell_type": "code",
   "execution_count": null,
   "metadata": {},
   "outputs": [],
   "source": [
    "ds.sst.sel(lon=300, lat=50).plot();"
   ]
  },
  {
   "cell_type": "markdown",
   "metadata": {},
   "source": [
    "As we can see from the plot, the timeseries at any one point is totally\n",
    "dominated by the seasonal cycle. We would like to remove this seasonal cycle\n",
    "(called the \"climatology\") in order to better see the long-term variaitions in\n",
    "temperature. We can accomplish this using **groupby**.\n",
    "\n",
    "Before moving forward, we note that xarray correctly parsed the time index,\n",
    "resulting in a Pandas datetime index on the time dimension.\n"
   ]
  },
  {
   "cell_type": "code",
   "execution_count": null,
   "metadata": {},
   "outputs": [],
   "source": [
    "ds.time"
   ]
  },
  {
   "cell_type": "markdown",
   "metadata": {},
   "source": [
    "The syntax of Xarray's groupby is almost identical to Pandas.\n"
   ]
  },
  {
   "cell_type": "code",
   "execution_count": null,
   "metadata": {
    "tags": [
     "output_scroll"
    ]
   },
   "outputs": [],
   "source": [
    "?ds.groupby"
   ]
  },
  {
   "cell_type": "markdown",
   "metadata": {},
   "source": [
    "### Identifying groups"
   ]
  },
  {
   "cell_type": "markdown",
   "metadata": {},
   "source": [
    "The most important argument is `group`: this defines the unique values or labels we will\n",
    "us to \"split\" the data for grouped analysis. We can pass either a DataArray or a\n",
    "name of a variable in the dataset. Let's first use a DataArray. \n",
    "\n",
    "Just like with\n",
    "Pandas, we can use the time index to extract specific components of dates and\n",
    "times. Xarray uses a special syntax for this `.dt`, called the\n",
    "[DatetimeAccessor](https://docs.xarray.dev/en/stable/generated/xarray.core.accessor_dt.DatetimeAccessor.html?highlight=DatetimeAccessor). See the [documentation](https://docs.xarray.dev/en/stable/user-guide/time-series.html#datetime-components) for more\n"
   ]
  },
  {
   "cell_type": "code",
   "execution_count": null,
   "metadata": {},
   "outputs": [],
   "source": [
    "ds.time.dt"
   ]
  },
  {
   "cell_type": "code",
   "execution_count": null,
   "metadata": {},
   "outputs": [],
   "source": [
    "ds.time.dt.month"
   ]
  },
  {
   "cell_type": "code",
   "execution_count": null,
   "metadata": {},
   "outputs": [],
   "source": [
    "ds.time.dt.year"
   ]
  },
  {
   "cell_type": "markdown",
   "metadata": {},
   "source": [
    "### Split step"
   ]
  },
  {
   "cell_type": "markdown",
   "metadata": {},
   "source": [
    "We can use these arrays in a groupby operation:\n"
   ]
  },
  {
   "cell_type": "code",
   "execution_count": null,
   "metadata": {},
   "outputs": [],
   "source": [
    "gb = ds.groupby(ds.time.dt.month)\n",
    "gb"
   ]
  },
  {
   "cell_type": "markdown",
   "metadata": {},
   "source": [
    "Xarray also offers a more concise syntax when the variable you're grouping on is\n",
    "already present in the dataset. This is identical to the previous line:\n"
   ]
  },
  {
   "cell_type": "code",
   "execution_count": null,
   "metadata": {},
   "outputs": [],
   "source": [
    "gb = ds.groupby(\"time.month\")\n",
    "gb"
   ]
  },
  {
   "cell_type": "markdown",
   "metadata": {},
   "source": [
    "`gb` is a DatasetGroupBy object. It represents a GroupBy operation and helpfully tells us the unique \"groups\" or labels found during the split step.\n",
    "\n",
    "\n",
    "```{tip}\n",
    "\n",
    "Xarrays' computation methods (`groupby`, `groupby_bins`, `rolling`, `coarsen`, `weighted`) all return special objects that represent the basic underlying computation pattern. For e.g. `gb` above is a `DatasetGroupBy` object that represents monthly groupings of the data in `ds` . It is usually helpful to save and reuse these objects for multiple operations (e.g. a mean and standard deviation calculation).\n",
    "```"
   ]
  },
  {
   "cell_type": "markdown",
   "metadata": {
    "tags": []
   },
   "source": [
    "### Apply & Combine\n",
    "\n",
    "Now that we have groups defined, it's time to \"apply\" a calculation to the\n",
    "group. Like in Pandas, these calculations can either be:\n",
    "\n",
    "- _aggregation_ or _reduction_: reduces the size of the group\n",
    "- _transformation_: preserves the group's full size\n",
    "\n",
    "At then end of the apply step, xarray will automatically combine the aggregated\n",
    "/ transformed groups back into a single object."
   ]
  },
  {
   "cell_type": "markdown",
   "metadata": {},
   "source": [
    "#### Aggregations or Reductions"
   ]
  },
  {
   "cell_type": "markdown",
   "metadata": {},
   "source": [
    "Most commonly, we want to perform a reduction operation like `sum` or `mean` on our groups. Xarray conveniently provides these reduction methods on Groupby objects for both [DataArrays and Datasets](https://docs.xarray.dev/en/stable/api.html#groupby-objects).\n",
    "\n",
    "Here we calculate the monthly mean."
   ]
  },
  {
   "cell_type": "code",
   "execution_count": null,
   "metadata": {},
   "outputs": [],
   "source": [
    "ds_mm = gb.mean()\n",
    "ds_mm"
   ]
  },
  {
   "cell_type": "markdown",
   "metadata": {},
   "source": [
    "So we did what we wanted to do: calculate the climatology at every point in the\n",
    "dataset. Let's look at the data a bit.\n",
    "\n",
    "_Climatology at a specific point in the North Atlantic_\n"
   ]
  },
  {
   "cell_type": "code",
   "execution_count": null,
   "metadata": {},
   "outputs": [],
   "source": [
    "ds_mm.sst.sel(lon=300, lat=50).plot();"
   ]
  },
  {
   "cell_type": "markdown",
   "metadata": {},
   "source": [
    "_Zonal Mean Climatology_\n"
   ]
  },
  {
   "cell_type": "code",
   "execution_count": null,
   "metadata": {},
   "outputs": [],
   "source": [
    "ds_mm.sst.mean(dim=\"lon\").plot.contourf(x=\"month\", levels=12, vmin=-2, vmax=30);"
   ]
  },
  {
   "cell_type": "markdown",
   "metadata": {},
   "source": [
    "_Difference between January and July Climatology_\n"
   ]
  },
  {
   "cell_type": "code",
   "execution_count": null,
   "metadata": {},
   "outputs": [],
   "source": [
    "(ds_mm.sst.sel(month=1) - ds_mm.sst.sel(month=7)).plot(vmax=10);"
   ]
  },
  {
   "cell_type": "markdown",
   "metadata": {},
   "source": [
    "#### Custom Aggregations\n",
    "\n",
    "The most fundamental way to apply a function and combine the results together to use the `.map` method."
   ]
  },
  {
   "cell_type": "code",
   "execution_count": null,
   "metadata": {
    "tags": [
     "output_scroll"
    ]
   },
   "outputs": [],
   "source": [
    "?gb.map"
   ]
  },
  {
   "cell_type": "markdown",
   "metadata": {},
   "source": [
    "`.map` accepts as its argument a function that expects and returns xarray\n",
    "objects. We define a custom function. This function takes a single argument--the\n",
    "group dataset--and returns a new dataset to be combined:"
   ]
  },
  {
   "cell_type": "code",
   "execution_count": null,
   "metadata": {},
   "outputs": [],
   "source": [
    "def time_mean(a):\n",
    "    return a.mean(dim=\"time\")\n",
    "\n",
    "\n",
    "gb.map(time_mean)"
   ]
  },
  {
   "cell_type": "markdown",
   "metadata": {},
   "source": [
    "This is identical to `gb.mean()`"
   ]
  },
  {
   "cell_type": "markdown",
   "metadata": {},
   "source": [
    "#### Apply by iteration\n",
    "\n",
    "We can manually iterate over the group. The\n",
    "iterator returns the key (group name) and the value (the actual dataset\n",
    "corresponding to that group) for each group.\n",
    "\n",
    "\n",
    "You could apply any function you want in the loop but you would have to manually [combine](https://docs.xarray.dev/en/stable/user-guide/combining.html) the results together."
   ]
  },
  {
   "cell_type": "code",
   "execution_count": null,
   "metadata": {},
   "outputs": [],
   "source": [
    "for group_name, group_ds in gb:\n",
    "    # stop iterating after the first loop\n",
    "    break\n",
    "print(group_name)\n",
    "group_ds"
   ]
  },
  {
   "cell_type": "markdown",
   "metadata": {},
   "source": [
    "#### Transformations\n",
    "\n",
    "Now we want to _remove_ this climatology from the dataset, to examine the\n",
    "residual, called the _anomaly_, which is the interesting part from a climate\n",
    "perspective. Removing the seasonal climatology is a perfect example of a\n",
    "transformation: it operates over a group, but doesn't change the size of the\n",
    "dataset. Here is one way to code it\n"
   ]
  },
  {
   "cell_type": "code",
   "execution_count": null,
   "metadata": {},
   "outputs": [],
   "source": [
    "def remove_time_mean(x):\n",
    "    return x - x.mean(dim=\"time\")\n",
    "\n",
    "\n",
    "ds_anom = ds.groupby(\"time.month\").map(remove_time_mean)\n",
    "ds_anom"
   ]
  },
  {
   "cell_type": "markdown",
   "metadata": {},
   "source": [
    "Xarray makes these sorts of transformations easy by supporting _groupby\n",
    "arithmetic_. This concept is easiest explained with an example:\n"
   ]
  },
  {
   "cell_type": "code",
   "execution_count": null,
   "metadata": {},
   "outputs": [],
   "source": [
    "gb = ds.groupby(\"time.month\")\n",
    "ds_anom = gb - gb.mean()\n",
    "ds_anom"
   ]
  },
  {
   "cell_type": "markdown",
   "metadata": {},
   "source": [
    "Now we can view the climate signal without the overwhelming influence of the\n",
    "seasonal cycle.\n",
    "\n",
    "_Timeseries at a single point in the North Atlantic_\n"
   ]
  },
  {
   "cell_type": "code",
   "execution_count": null,
   "metadata": {},
   "outputs": [],
   "source": [
    "ds_anom.sst.sel(lon=300, lat=50).plot();"
   ]
  },
  {
   "cell_type": "markdown",
   "metadata": {},
   "source": [
    "_Difference between Jan. 1 2018 and Jan. 1 1970_\n"
   ]
  },
  {
   "cell_type": "code",
   "execution_count": null,
   "metadata": {},
   "outputs": [],
   "source": [
    "(ds_anom.sel(time=\"2018-01-01\") - ds_anom.sel(time=\"1970-01-01\")).sst.plot();"
   ]
  },
  {
   "cell_type": "markdown",
   "metadata": {},
   "source": [
    "::::{admonition} Exercise\n",
    ":class: tip\n",
    "\n",
    "Using `groupby`, plot the annual mean time series of SST at 300°E, 50°N\n",
    "\n",
    ":::{admonition} Solution\n",
    ":class: dropdown\n",
    "```python\n",
    "ds.groupby(\"time.year\").mean().sst.sel(lon=300, lat=50).plot();\n",
    "```\n",
    ":::\n",
    "::::"
   ]
  },
  {
   "cell_type": "markdown",
   "metadata": {},
   "source": [
    "## Resample\n",
    "\n",
    "Resampling means changing the time frequency of data, usually reducing to a coarser frequency: e.g. converting daily frequency data to monthly frequency data using `mean` to reduce the values. This operation can be thought of as a groupby operation where each group is a single month of data. Resampling can be applied only to time-index dimensions. \n",
    "\n",
    "First note that `ds_anom` has data at monthly frequency (i.e. one point every month)."
   ]
  },
  {
   "cell_type": "code",
   "execution_count": null,
   "metadata": {},
   "outputs": [],
   "source": [
    "ds_anom.time"
   ]
  },
  {
   "cell_type": "markdown",
   "metadata": {},
   "source": [
    "Here we compute the five-year mean along the `time` dimension by passing `time='5Y'`. `'5Y'` is a special frequency string. Xarray uses pandas to convert such a frequency string to a groupby operation. See the [pandas documentation](https://pandas.pydata.org/pandas-docs/stable/user_guide/timeseries.html#offset-aliases) for how to specify a different frequency."
   ]
  },
  {
   "cell_type": "code",
   "execution_count": null,
   "metadata": {},
   "outputs": [],
   "source": [
    "resample_obj = ds_anom.resample(time=\"5YE\")\n",
    "resample_obj"
   ]
  },
  {
   "cell_type": "markdown",
   "metadata": {},
   "source": [
    "```{note}\n",
    "`resample` only works with proper datetime64 coordinate labels. Note the `dtype` of `time` in the repr above.\n",
    "```"
   ]
  },
  {
   "cell_type": "markdown",
   "metadata": {},
   "source": [
    "Resampling objects are exactly like groupby objects and allow reductions, iteration, etc."
   ]
  },
  {
   "cell_type": "code",
   "execution_count": null,
   "metadata": {},
   "outputs": [],
   "source": [
    "ds_anom_resample = resample_obj.mean()\n",
    "ds_anom_resample"
   ]
  },
  {
   "cell_type": "code",
   "execution_count": null,
   "metadata": {},
   "outputs": [],
   "source": [
    "for label, group in resample_obj:\n",
    "    break\n",
    "print(label, \"\\n\\n\", group)"
   ]
  },
  {
   "cell_type": "code",
   "execution_count": null,
   "metadata": {},
   "outputs": [],
   "source": [
    "ds_anom.sst.sel(lon=300, lat=50).plot()\n",
    "ds_anom_resample.sst.sel(lon=300, lat=50).plot(marker=\"o\");"
   ]
  },
  {
   "cell_type": "markdown",
   "metadata": {
    "tags": []
   },
   "source": [
    "::::{admonition} Exercise\n",
    ":class: tip\n",
    "\n",
    "Using `resample`, plot the annual mean time series of SST at 300°E, 50°N.\n",
    "\n",
    "Compare this output to the groupby output. What differences do you see?\n",
    "\n",
    ":::{admonition} Solution\n",
    ":class: dropdown\n",
    "```python\n",
    "resampled = ds.resample(time='YE').mean().sst.sel(lon=300, lat=50)\n",
    "resampled.plot();\n",
    "```\n",
    ":::\n",
    "::::"
   ]
  },
  {
   "cell_type": "markdown",
   "metadata": {
    "tags": [
     "hide-input"
    ]
   },
   "source": [
    "## GroupBy vs Resample \n",
    "\n",
    "Let's compare the grouped and resampled outputs.\n",
    "\n",
    "\n",
    "1. Note the different dimension names: when grouped, `time` is renamed to `year`. When resampled, the `time` dimension name is preserved\n",
    "2. The values for `year` are integers, while those for `resampled.time` are timestamps, similar to the input dataset\n",
    "3. But all values are equal"
   ]
  },
  {
   "cell_type": "code",
   "execution_count": null,
   "metadata": {
    "tags": []
   },
   "outputs": [],
   "source": [
    "from IPython.display import display_html\n",
    "\n",
    "grouped = ds.groupby(\"time.year\").mean().sst.sel(lon=300, lat=50)\n",
    "resampled = ds.resample(time='Y').mean().sst.sel(lon=300, lat=50)\n",
    "display_html(grouped)\n",
    "display_html(resampled)"
   ]
  },
  {
   "cell_type": "code",
   "execution_count": null,
   "metadata": {
    "tags": []
   },
   "outputs": [],
   "source": [
    "np.array_equal(grouped.data, resampled.data)"
   ]
  },
  {
   "cell_type": "markdown",
   "metadata": {},
   "source": [
    "## Going further\n",
    "\n",
    "1. See the documentation on [groupby](https://docs.xarray.dev/en/stable/user-guide/groupby.html) and [resample](https://docs.xarray.dev/en/stable/user-guide/time-series.html#resampling-and-grouped-operations)\n",
    "2. Follow the tutorial on [high-level computation patterns](https://tutorial.xarray.dev/intermediate/01-high-level-computation-patterns.html)"
   ]
  }
 ],
 "metadata": {
  "language_info": {
   "codemirror_mode": {
    "name": "ipython",
    "version": 3
   },
   "file_extension": ".py",
   "mimetype": "text/x-python",
   "name": "python",
   "nbconvert_exporter": "python",
   "pygments_lexer": "ipython3"
  }
 },
 "nbformat": 4,
 "nbformat_minor": 4
}
