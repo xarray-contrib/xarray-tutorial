{
 "cells": [
  {
   "cell_type": "markdown",
   "id": "0",
   "metadata": {},
   "source": [
    "# Reading and writing files\n",
    "\n",
    "One of Xarray's most widely used features is its ability to [read from and write\n",
    "to a variety of data formats](https://docs.xarray.dev/en/stable/user-guide/io.html). \n",
    "For example, Xarray can read the following formats using `open_dataset`/`open_mfdataset`:\n",
    "\n",
    "- [NetCDF](https://www.unidata.ucar.edu/software/netcdf/)\n",
    "- [Zarr](https://zarr.readthedocs.io/en/stable/)\n",
    "\n",
    "Support for additional formats is possible using external packages\n",
    "- [GRIB](https://en.wikipedia.org/wiki/GRIB) using the [cfgrib](https://github.com/ecmwf/cfgrib) package\n",
    "- [GeoTIFF](https://gdal.org/drivers/raster/gtiff.html) /\n",
    "  [GDAL rasters](https://svn.osgeo.org/gdal/tags/gdal_1_2_5/frmts/formats_list.html)\n",
    "  using the [rioxarray package](https://corteva.github.io/rioxarray/stable/)\n",
    "\n",
    "<img src=\"https://www.unidata.ucar.edu/images/logos/netcdf-400x400.png\" align=\"right\" width=\"20%\">\n",
    "\n",
    "## NetCDF\n",
    "\n",
    "The recommended way to store xarray data structures is NetCDF, which is a binary\n",
    "file format for self-described datasets that originated in the geosciences.\n",
    "Xarray is based on the netCDF data model, so netCDF files on disk directly\n",
    "correspond to Dataset objects.\n",
    "\n",
    "Xarray reads and writes to NetCDF files using the `open_dataset` /\n",
    "`open_dataarray` functions and the `to_netcdf` method.\n",
    "\n",
    "Let's first create some datasets and write them to disk using `to_netcdf`, which\n",
    "takes the path we want to write to:\n"
   ]
  },
  {
   "cell_type": "code",
   "execution_count": null,
   "id": "1",
   "metadata": {},
   "outputs": [],
   "source": [
    "import numpy as np\n",
    "import xarray as xr\n",
    "\n",
    "# Ensure random arrays are the same each time\n",
    "np.random.seed(0)"
   ]
  },
  {
   "cell_type": "code",
   "execution_count": null,
   "id": "2",
   "metadata": {},
   "outputs": [],
   "source": [
    "# Ensure we start with a clean directory for the tutorial\n",
    "import pathlib\n",
    "import shutil\n",
    "\n",
    "datadir = pathlib.Path('../data/io-tutorial')\n",
    "if datadir.exists():\n",
    "    shutil.rmtree(datadir)\n",
    "else:\n",
    "    datadir.mkdir()"
   ]
  },
  {
   "cell_type": "markdown",
   "id": "3",
   "metadata": {},
   "source": [
    "The constructor of `Dataset` takes three parameters:\n",
    "\n",
    "- `data_vars`: dict-like mapping names to values. Values are either `DataArray` objects\n",
    "  or defined with tuples consisting of of dimension names and arrays.\n",
    "- `coords`: same as for `DataArray`\n",
    "- `attrs`: same as for `DataArray`"
   ]
  },
  {
   "cell_type": "code",
   "execution_count": null,
   "id": "4",
   "metadata": {},
   "outputs": [],
   "source": [
    "ds1 = xr.Dataset(\n",
    "    data_vars={\n",
    "        \"a\": ((\"x\", \"y\"), np.random.randn(4, 2)),\n",
    "        \"b\": ((\"z\", \"x\"), np.random.randn(6, 4)),\n",
    "    },\n",
    "    coords={\n",
    "        \"x\": np.arange(4),\n",
    "        \"y\": np.arange(-2, 0),\n",
    "        \"z\": np.arange(-3, 3),\n",
    "    },\n",
    ")\n",
    "ds2 = xr.Dataset(\n",
    "    data_vars={\n",
    "        \"a\": ((\"x\", \"y\"), np.random.randn(7, 3)),\n",
    "        \"b\": ((\"z\", \"x\"), np.random.randn(2, 7)),\n",
    "    },\n",
    "    coords={\n",
    "        \"x\": np.arange(6, 13),\n",
    "        \"y\": np.arange(3),\n",
    "        \"z\": np.arange(3, 5),\n",
    "    },\n",
    ")\n",
    "\n",
    "# write datasets\n",
    "ds1.to_netcdf(datadir / \"ds1.nc\")\n",
    "ds2.to_netcdf(datadir / \"ds2.nc\")\n",
    "\n",
    "# write dataarray\n",
    "ds1.a.to_netcdf(datadir / \"da1.nc\")"
   ]
  },
  {
   "cell_type": "markdown",
   "id": "5",
   "metadata": {},
   "source": [
    "Reading those files is just as simple:\n"
   ]
  },
  {
   "cell_type": "code",
   "execution_count": null,
   "id": "6",
   "metadata": {},
   "outputs": [],
   "source": [
    "xr.open_dataset(datadir / \"ds1.nc\")"
   ]
  },
  {
   "cell_type": "code",
   "execution_count": null,
   "id": "7",
   "metadata": {},
   "outputs": [],
   "source": [
    "xr.open_dataarray(datadir / \"da1.nc\")"
   ]
  },
  {
   "cell_type": "markdown",
   "id": "8",
   "metadata": {},
   "source": [
    "<img src=\"https://zarr.readthedocs.io/en/stable/_static/logo1.png\" align=\"right\" width=\"20%\">\n",
    "\n",
    "\n",
    "## Zarr\n",
    "\n",
    "[Zarr](https://zarr.readthedocs.io/en/stable/) is a Python package and data\n",
    "format providing an implementation of chunked, compressed, N-dimensional arrays.\n",
    "Zarr has the ability to store arrays in a range of ways, including in memory, in\n",
    "files, and in cloud-based object storage such as Amazon S3 and Google Cloud\n",
    "Storage. Xarray’s Zarr backend allows xarray to leverage these capabilities.\n",
    "\n",
    "Zarr files can be written with:\n"
   ]
  },
  {
   "cell_type": "code",
   "execution_count": null,
   "id": "9",
   "metadata": {},
   "outputs": [],
   "source": [
    "ds1.to_zarr(datadir / \"ds1.zarr\", mode=\"w\")"
   ]
  },
  {
   "cell_type": "markdown",
   "id": "10",
   "metadata": {},
   "source": [
    "We can then read the created file with:\n"
   ]
  },
  {
   "cell_type": "code",
   "execution_count": null,
   "id": "11",
   "metadata": {},
   "outputs": [],
   "source": [
    "xr.open_zarr(datadir / \"ds1.zarr\", chunks=None)"
   ]
  },
  {
   "cell_type": "markdown",
   "id": "12",
   "metadata": {},
   "source": [
    "setting the `chunks` parameter to `None` avoids `dask` (more on that in a later\n",
    "session)\n"
   ]
  },
  {
   "cell_type": "markdown",
   "id": "13",
   "metadata": {},
   "source": [
    "**tip:** You can write to any dictionary-like (`MutableMapping`) interface:"
   ]
  },
  {
   "cell_type": "code",
   "execution_count": null,
   "id": "14",
   "metadata": {},
   "outputs": [],
   "source": [
    "mystore = {}\n",
    "\n",
    "ds1.to_zarr(store=mystore)"
   ]
  },
  {
   "cell_type": "markdown",
   "id": "15",
   "metadata": {},
   "source": [
    "## Raster files using rioxarray\n",
    "\n",
    "[rioxarray](https://corteva.github.io/rioxarray/) is an *Xarray extension* that allows reading and writing a wide variety of geospatial image formats compatible with Geographic Information Systems (GIS), for example GeoTIFF.\n",
    "\n",
    "If rioxarray is installed your environment it will be automatically detected and give you access to the `.rio` accessor:"
   ]
  },
  {
   "cell_type": "code",
   "execution_count": null,
   "id": "16",
   "metadata": {},
   "outputs": [],
   "source": [
    "da = xr.DataArray(\n",
    "    data=ds1.a.data,\n",
    "    coords={\n",
    "        \"y\": np.linspace(47.5, 47.8, 4),\n",
    "        \"x\": np.linspace(-122.9, -122.7, 2),\n",
    "    },\n",
    ")\n",
    "\n",
    "# Add Geospatial Coordinate Reference https://epsg.io/4326\n",
    "# this is stored as a 'spatial_ref' coordinate\n",
    "da.rio.write_crs(\"epsg:4326\", inplace=True)\n",
    "da"
   ]
  },
  {
   "cell_type": "code",
   "execution_count": null,
   "id": "17",
   "metadata": {},
   "outputs": [],
   "source": [
    "da.rio.to_raster(datadir / 'ds1_a.tiff')"
   ]
  },
  {
   "cell_type": "markdown",
   "id": "18",
   "metadata": {},
   "source": [
    "NOTE: you can now load this file into GIS tools like [QGIS](https://www.qgis.org)! Or open back into Xarray:"
   ]
  },
  {
   "cell_type": "code",
   "execution_count": null,
   "id": "19",
   "metadata": {},
   "outputs": [],
   "source": [
    "DA = xr.open_dataarray(datadir / 'ds1_a.tiff', engine='rasterio')\n",
    "DA.rio.crs"
   ]
  }
 ],
 "metadata": {
  "language_info": {
   "codemirror_mode": {
    "name": "ipython",
    "version": 3
   },
   "file_extension": ".py",
   "mimetype": "text/x-python",
   "name": "python",
   "nbconvert_exporter": "python",
   "pygments_lexer": "ipython3"
  }
 },
 "nbformat": 4,
 "nbformat_minor": 5
}
