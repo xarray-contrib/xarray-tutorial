{
 "cells": [
  {
   "cell_type": "markdown",
   "id": "0",
   "metadata": {},
   "source": [
    "# Windowed Computations\n",
    "\n",
    "Xarray has built-in support for windowed operations:\n",
    "1. [rolling](https://docs.xarray.dev/en/stable/user-guide/computation.html#rolling-window-operations) - Sliding windows of fixed length.\n",
    "2. [coarsen](https://docs.xarray.dev/en/stable/user-guide/computation.html#coarsen-large-arrays) - block windows of fixed length.\n",
    "\n",
    "\n",
    "In this notebook, we'll learn to \n",
    "1. Compute rolling, or sliding window, means along one or more dimensions.\n",
    "2. Compute block averages along a dimension.\n",
    "3. Use `construct` to reshape arrays so that a new dimension provides windowed views to the data.\n"
   ]
  },
  {
   "cell_type": "code",
   "execution_count": null,
   "id": "1",
   "metadata": {},
   "outputs": [],
   "source": [
    "import numpy as np\n",
    "import xarray as xr\n",
    "import matplotlib.pyplot as plt\n",
    "\n",
    "np.set_printoptions(threshold=10, edgeitems=2)\n",
    "xr.set_options(display_expand_data=False)\n",
    "\n",
    "%config InlineBackend.figure_format='retina'"
   ]
  },
  {
   "cell_type": "code",
   "execution_count": null,
   "id": "2",
   "metadata": {},
   "outputs": [],
   "source": [
    "ds = xr.tutorial.load_dataset(\"ersstv5\")\n",
    "ds"
   ]
  },
  {
   "cell_type": "markdown",
   "id": "3",
   "metadata": {},
   "source": [
    "## Rolling or moving windows"
   ]
  },
  {
   "cell_type": "markdown",
   "id": "4",
   "metadata": {},
   "source": [
    "Rolling window operations \n",
    "1. can be applied along any dimension, or along multiple dimensions.\n",
    "2. returns object of same shape as input\n",
    "3. pads with NaNs to make (3) possible\n",
    "\n",
    "Again, all common reduction operations are [available](https://docs.xarray.dev/en/stable/api.html#rolling-objects)"
   ]
  },
  {
   "cell_type": "code",
   "execution_count": null,
   "id": "5",
   "metadata": {},
   "outputs": [],
   "source": [
    "rolling = ds.rolling(time=12, center=True)\n",
    "rolling"
   ]
  },
  {
   "cell_type": "markdown",
   "id": "6",
   "metadata": {},
   "source": [
    "```{tip}\n",
    "Xarrays' computation methods (`groupby`, `groupby_bins`, `rolling`, `coarsen`, `weighted`) all return special objects that represent the basic underlying computation pattern. For e.g. `rolling` above is a `DatasetRolling` object that represents 12-point rolling windows of the data in `ds` . It is usually helpful to save and reuse these objects for multiple operations (e.g. a mean and standard deviation calculation).\n",
    "```"
   ]
  },
  {
   "cell_type": "code",
   "execution_count": null,
   "id": "7",
   "metadata": {},
   "outputs": [],
   "source": [
    "ds_rolling = rolling.mean()\n",
    "ds_rolling"
   ]
  },
  {
   "cell_type": "code",
   "execution_count": null,
   "id": "8",
   "metadata": {},
   "outputs": [],
   "source": [
    "ds.sst.sel(lon=300, lat=50).plot(label=\"monthly anom\")\n",
    "ds_rolling.sst.sel(lon=300, lat=50).plot(label=\"12 month rolling mean\")\n",
    "plt.legend()"
   ]
  },
  {
   "cell_type": "markdown",
   "id": "9",
   "metadata": {},
   "source": [
    "We can apply rolling mean along multiple dimensions as a 2D smoother in (lat, lon). Here is an example of a 5-point running mean applied along both the `lat` and `lon` dimensions"
   ]
  },
  {
   "cell_type": "code",
   "execution_count": null,
   "id": "10",
   "metadata": {},
   "outputs": [],
   "source": [
    "extract = ds.sst.isel(time=0)\n",
    "smoothed = extract.rolling(lon=5, lat=5, center=True).mean()\n",
    "\n",
    "f, ax = plt.subplots(2, 1, sharex=True, sharey=True)\n",
    "extract.plot(ax=ax[0], robust=True)\n",
    "smoothed.plot(ax=ax[1], robust=True)\n",
    "f.set_size_inches((10, 7))\n",
    "plt.tight_layout()"
   ]
  },
  {
   "cell_type": "markdown",
   "id": "11",
   "metadata": {},
   "source": [
    "Note the addition of NaNs at the data boundaries and near continental boundaries."
   ]
  },
  {
   "cell_type": "markdown",
   "id": "12",
   "metadata": {},
   "source": [
    "### Custom reductions\n",
    "\n",
    "While common reductions are implemented by default, sometimes it is useful to apply our own windowed operations. For these uses, Xarray provides the `construct` methods for [DataArray.rolling](https://docs.xarray.dev/en/stable/generated/xarray.computation.rolling.DataArrayRolling.construct.html#xarray.computation.rolling.DataArrayRolling.construct) and [Dataset.rolling](https://docs.xarray.dev/en/stable/generated/xarray.computation.rolling.DatasetRolling.construct.html#xarray.computation.rolling.DatasetRolling.construct).\n",
    "\n",
    "For rolling over a dimension `time` with a window size `N`, `construct` adds a new dimension (with user-provided name) of size `N`. \n",
    "\n",
    "We illustrate with a simple example array:"
   ]
  },
  {
   "cell_type": "code",
   "execution_count": null,
   "id": "13",
   "metadata": {},
   "outputs": [],
   "source": [
    "simple = xr.DataArray(np.arange(10), dims=\"time\", coords={\"time\": np.arange(10)})\n",
    "simple"
   ]
  },
  {
   "cell_type": "markdown",
   "id": "14",
   "metadata": {},
   "source": [
    "We call `construct` and provide a name for the new dimension: `window`"
   ]
  },
  {
   "cell_type": "code",
   "execution_count": null,
   "id": "15",
   "metadata": {},
   "outputs": [],
   "source": [
    "# adds a new dimension \"window\"\n",
    "simple.rolling(time=5, center=True).construct(\"window\")"
   ]
  },
  {
   "cell_type": "markdown",
   "id": "16",
   "metadata": {},
   "source": [
    ":::{admonition} Exercise\n",
    ":class: tip\n",
    "Illustrate the difference between `center=True` and `center=False` for rolling by looking at the `construct`-ed array.\n",
    "\n",
    ":::{admonition} Solution\n",
    ":class: dropdown\n",
    "```python\n",
    "display(\"center=True\")\n",
    "display(simple.rolling(time=5, center=True).construct(\"window\"))\n",
    "\n",
    "display(\"center=False\")\n",
    "display(simple.rolling(time=5, center=False).construct(\"window\"))\n",
    "```\n",
    ":::\n",
    "::::"
   ]
  },
  {
   "cell_type": "markdown",
   "id": "17",
   "metadata": {},
   "source": [
    "## Coarsening\n",
    "\n",
    "`coarsen` does something similar to `rolling`, but allows us to work with discrete *non-overlapping* blocks of data.\n",
    "\n",
    "You will need to specify `boundary` if the length of the dimension is not a multiple of the window size (\"block size\"). You can choose to\n",
    "1. `trim` the excess values\n",
    "2. `pad` with NaNs\n",
    "\n",
    "Again, all standard reductions are [implemented](https://docs.xarray.dev/en/stable/api.html#coarsen-objects)."
   ]
  },
  {
   "cell_type": "code",
   "execution_count": null,
   "id": "18",
   "metadata": {},
   "outputs": [],
   "source": [
    "coarse = ds.coarsen(lon=5, lat=5)\n",
    "coarse"
   ]
  },
  {
   "cell_type": "markdown",
   "id": "19",
   "metadata": {},
   "source": [
    "Xarrays' computation methods (groupby, groupby_bins, rolling, coarsen, weighted) all return special objects that represent the basic underlying computation pattern. For e.g. `coarse` above is a `DatasetCoarsen` object that represents 5-point windows along lat, lon of the data in `ds`. It is usually helpful to save and reuse these objects for multiple operations (e.g. a mean and standard deviation calculation)."
   ]
  },
  {
   "cell_type": "code",
   "execution_count": null,
   "id": "20",
   "metadata": {
    "tags": [
     "raises-exception",
     "output-scroll"
    ]
   },
   "outputs": [],
   "source": [
    "# we expect an error here because lat has size 89, which is not divisible by block size 5\n",
    "coarse.mean()"
   ]
  },
  {
   "cell_type": "code",
   "execution_count": null,
   "id": "21",
   "metadata": {},
   "outputs": [],
   "source": [
    "coarse = ds.coarsen(lat=5, lon=5, boundary=\"trim\").mean()\n",
    "coarse"
   ]
  },
  {
   "cell_type": "code",
   "execution_count": null,
   "id": "22",
   "metadata": {},
   "outputs": [],
   "source": [
    "coarse.sst.isel(time=0).plot();"
   ]
  },
  {
   "cell_type": "markdown",
   "id": "23",
   "metadata": {},
   "source": [
    "### Custom reductions\n",
    "\n",
    "Like `rolling`, `coarsen` also provides a `construct` method for custom block operations. \n",
    "\n",
    "```{tip} \n",
    "`coarsen.construct` is a handy way to reshape Xarray objects.\n",
    "```\n",
    "\n",
    "Consider a \"monthly\" 1D timeseries. This simple example has one value per month for 2 years"
   ]
  },
  {
   "cell_type": "code",
   "execution_count": null,
   "id": "24",
   "metadata": {},
   "outputs": [],
   "source": [
    "months = xr.DataArray(\n",
    "    np.tile(np.arange(1, 13), reps=2),\n",
    "    dims=\"time\",\n",
    "    coords={\"time\": np.arange(1, 25)},\n",
    ")\n",
    "months"
   ]
  },
  {
   "cell_type": "markdown",
   "id": "25",
   "metadata": {},
   "source": [
    "Now we reshape to get one new dimension `year` of size 12."
   ]
  },
  {
   "cell_type": "code",
   "execution_count": null,
   "id": "26",
   "metadata": {},
   "outputs": [],
   "source": [
    "# break \"time\" into two new dimensions: \"year\", \"month\"\n",
    "months.coarsen(time=12).construct(time=(\"year\", \"month\"))"
   ]
  },
  {
   "cell_type": "markdown",
   "id": "27",
   "metadata": {},
   "source": [
    ":::{admonition} Exercise\n",
    ":class: tip\n",
    "\n",
    "Imagine the array `months` was one element shorter. Use `boundary=\"pad\"` and the `side` kwarg to reshape `months.isel(time=slice(1, None))` to a 2D DataArray with the following values:\n",
    "\n",
    "```python\n",
    "array([[nan,  2.,  3.,  4.,  5.,  6.,  7.,  8.,  9., 10., 11., 12.],\n",
    "       [ 1.,  2.,  3.,  4.,  5.,  6.,  7.,  8.,  9., 10., 11., 12.]])\n",
    "```\n",
    "\n",
    ":::{admonition} Solution\n",
    ":class: dropdown\n",
    "\n",
    "```python\n",
    "months.isel(time=slice(1, None)).coarsen({\"time\": 12}, boundary=\"pad\", side=\"right\").construct(\n",
    "    time=(\"year\", \"month\")\n",
    ")\n",
    "```\n",
    ":::\n",
    "::::"
   ]
  },
  {
   "cell_type": "markdown",
   "id": "28",
   "metadata": {},
   "source": [
    "Note that `coarsen` pads with NaNs. For more control over padding, use\n",
    "[DataArray.pad](https://docs.xarray.dev/en/stable/generated/xarray.DataArray.pad.html) explicitly."
   ]
  },
  {
   "cell_type": "markdown",
   "id": "29",
   "metadata": {
    "jp-MarkdownHeadingCollapsed": true,
    "tags": []
   },
   "source": [
    "## Going further\n",
    "\n",
    "1. See the documentation on [rolling](https://docs.xarray.dev/en/stable/user-guide/computation.html#rolling-window-operations) and [coarsen](https://docs.xarray.dev/en/stable/user-guide/computation.html#coarsen-large-arrays).\n",
    "2. Follow the tutorial on [high-level computational patterns](https://tutorial.xarray.dev/intermediate/01-high-level-computation-patterns.html#)"
   ]
  }
 ],
 "metadata": {
  "language_info": {
   "codemirror_mode": {
    "name": "ipython",
    "version": 3
   },
   "file_extension": ".py",
   "mimetype": "text/x-python",
   "name": "python",
   "nbconvert_exporter": "python",
   "pygments_lexer": "ipython3"
  }
 },
 "nbformat": 4,
 "nbformat_minor": 5
}
