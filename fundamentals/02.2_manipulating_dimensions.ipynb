{
 "cells": [
  {
   "cell_type": "markdown",
   "metadata": {},
   "source": [
    "# Manipulating Dimensions (Data Resolution)\n",
    "\n",
    "Sometimes we need to change the resolution of our data. We might need to look at inferred values between dimension (grid) spaces\n",
    "or change the dimension spacing completely (for instance to add another variable). Learning goals:\n",
    "\n",
    "- Interpolate data to new coordinates"
   ]
  },
  {
   "cell_type": "code",
   "execution_count": null,
   "metadata": {},
   "outputs": [],
   "source": [
    "import numpy as np\n",
    "import pandas as pd\n",
    "import xarray as xr\n",
    "\n",
    "np.random.seed(0)"
   ]
  },
  {
   "cell_type": "code",
   "execution_count": null,
   "metadata": {},
   "outputs": [],
   "source": [
    "arr = xr.DataArray(\n",
    "    np.random.randn(4, 6),\n",
    "    dims=(\"x\", \"y\"),\n",
    "    coords={\n",
    "        \"x\": [-3.2, 2.1, 5.3, 6.5],\n",
    "        \"y\": pd.date_range(\"2009-01-05\", periods=6, freq=\"ME\"),\n",
    "    },\n",
    ")\n",
    "arr"
   ]
  },
  {
   "cell_type": "markdown",
   "metadata": {},
   "source": [
    "## Interpolation\n",
    "\n",
    "If we want to look at values between the current grid cells (interpolation), we\n",
    "can do that with `interp` (requires `scipy`):\n"
   ]
  },
  {
   "cell_type": "code",
   "execution_count": null,
   "metadata": {
    "tags": [
     "hide-output"
    ]
   },
   "outputs": [],
   "source": [
    "arr.interp(\n",
    "    x=np.linspace(2, 6, 10),\n",
    "    y=pd.date_range(\"2009-04-01\", \"2009-04-30\", freq=\"D\"),\n",
    ")"
   ]
  },
  {
   "cell_type": "markdown",
   "metadata": {},
   "source": [
    "when trying to extrapolate, the resulting values will be `nan`.\n",
    "\n",
    "If we already have a object with the desired coordinates, we can use\n",
    "`interp_like`:\n"
   ]
  },
  {
   "cell_type": "code",
   "execution_count": null,
   "metadata": {
    "tags": [
     "hide-output"
    ]
   },
   "outputs": [],
   "source": [
    "other = xr.DataArray(\n",
    "    dims=(\"x\", \"y\"),\n",
    "    coords={\n",
    "        \"x\": np.linspace(2, 4, 10),\n",
    "        \"y\": pd.date_range(\"2009-04-01\", \"2009-04-30\", freq=\"D\"),\n",
    "    },\n",
    ")\n",
    "arr.interp_like(other)"
   ]
  }
 ],
 "metadata": {
  "language_info": {
   "codemirror_mode": {
    "name": "ipython",
    "version": 3
   },
   "file_extension": ".py",
   "mimetype": "text/x-python",
   "name": "python",
   "nbconvert_exporter": "python",
   "pygments_lexer": "ipython3"
  }
 },
 "nbformat": 4,
 "nbformat_minor": 4
}
