{
 "cells": [
  {
   "cell_type": "markdown",
   "metadata": {},
   "source": [
    "(fundamentals/basic-computation)=\n",
    "# Basic Computation\n",
    "\n",
    "In this lesson, we discuss how to do scientific computations with xarray\n",
    "objects. Our learning goals are as follows. By the end of the lesson, we will be\n",
    "able to:\n",
    "\n",
    "- Apply basic arithmetic and numpy functions to xarray DataArrays / Dataset.\n",
    "- Use Xarray's label-aware reduction operations (e.g. `mean`, `sum`) weighted\n",
    "  reductions.\n",
    "- Apply arbitrary functions to Xarray data via `apply_ufunc`.\n",
    "- Use Xarray's broadcasting to compute on arrays of different dimensionality."
   ]
  },
  {
   "cell_type": "code",
   "execution_count": null,
   "metadata": {},
   "outputs": [],
   "source": [
    "import numpy as np\n",
    "import xarray as xr\n",
    "import matplotlib.pyplot as plt\n",
    "\n",
    "# Ask Xarray to not show data values by default\n",
    "xr.set_options(display_expand_data=False)\n",
    "\n",
    "%config InlineBackend.figure_format='retina'"
   ]
  },
  {
   "cell_type": "markdown",
   "metadata": {},
   "source": [
    "## Example Dataset\n",
    "\n",
    "First we load a dataset. We will use the\n",
    "[NOAA Extended Reconstructed Sea Surface Temperature (ERSST) v5](https://www.ncei.noaa.gov/products/extended-reconstructed-sst)\n",
    "product, a widely used and trusted gridded compilation of of historical data going back to 1854."
   ]
  },
  {
   "cell_type": "code",
   "execution_count": null,
   "metadata": {},
   "outputs": [],
   "source": [
    "ds = xr.tutorial.load_dataset(\"ersstv5\")\n",
    "ds"
   ]
  },
  {
   "cell_type": "markdown",
   "metadata": {},
   "source": [
    "Let's do some basic visualizations of the data, just to make sure it looks\n",
    "reasonable.\n"
   ]
  },
  {
   "cell_type": "code",
   "execution_count": null,
   "metadata": {},
   "outputs": [],
   "source": [
    "ds.sst.isel(time=0).plot(vmin=-2, vmax=30);"
   ]
  },
  {
   "cell_type": "markdown",
   "metadata": {},
   "source": [
    "## Arithmetic\n",
    "\n",
    "Xarray dataarrays and datasets work seamlessly with arithmetic operators and\n",
    "numpy array functions.\n",
    "\n",
    "For example, imagine we want to convert the temperature (given in Celsius) to\n",
    "Kelvin:\n"
   ]
  },
  {
   "cell_type": "code",
   "execution_count": null,
   "metadata": {
    "tags": []
   },
   "outputs": [],
   "source": [
    "sst_kelvin = ds.sst + 273.15\n",
    "sst_kelvin"
   ]
  },
  {
   "cell_type": "markdown",
   "metadata": {},
   "source": [
    "The dimensions and coordinates were preserved following the operation.\n",
    "\n",
    "<div class=\"alert alert-warning\">\n",
    "    <strong>Warning:</strong> Although many xarray datasets have a <code>units</code> attribute, which is used in plotting,\n",
    "    Xarray does not inherently understand units. However, xarray can integrate with <a href=\"https://pint.readthedocs.io/en/0.12/\">pint</a>, which provides full unit-aware operations. See <a href=\"https://pint-xarray.readthedocs.io\">pint-xarray</a> for more.\n",
    "</div>\n",
    "\n",
    "\n",
    "## Applying functions\n",
    "\n",
    "We can apply more complex functions to Xarray objects.\n",
    "Imagine we wanted to compute the following expression as a function of SST\n",
    "($\\Theta$) in Kelvin:\n",
    "\n",
    "$$ f(\\Theta) =  0.5 \\ln(\\Theta^2) $$\n"
   ]
  },
  {
   "cell_type": "code",
   "execution_count": null,
   "metadata": {},
   "outputs": [],
   "source": [
    "f = 0.5 * np.log(sst_kelvin**2)\n",
    "f"
   ]
  },
  {
   "cell_type": "markdown",
   "metadata": {},
   "source": [
    "## Applying Arbitrary Functions\n",
    "\n",
    "It's awesome that we can call `np.log(ds)` and have it \"just work\". However, not\n",
    "all third party libraries work this way.\n",
    "\n",
    "numpy's [nan_to_num](https://numpy.org/devdocs/reference/generated/numpy.nan_to_num.html) for example will return a numpy array"
   ]
  },
  {
   "cell_type": "code",
   "execution_count": null,
   "metadata": {
    "tags": [
     "output_scroll"
    ]
   },
   "outputs": [],
   "source": [
    "np.nan_to_num(ds.sst, nan=0)"
   ]
  },
  {
   "cell_type": "markdown",
   "metadata": {},
   "source": [
    "It would be nice to keep our dimensions and coordinates. \n",
    "\n",
    "We can accomplish this with [xr.apply_ufunc](https://docs.xarray.dev/en/stable/generated/xarray.apply_ufunc.html#xarray.apply_ufunc)"
   ]
  },
  {
   "cell_type": "code",
   "execution_count": null,
   "metadata": {},
   "outputs": [],
   "source": [
    "xr.apply_ufunc(np.nan_to_num, ds.sst, kwargs={\"nan\": 0})"
   ]
  },
  {
   "cell_type": "markdown",
   "metadata": {},
   "source": [
    "```{tip}\n",
    "`apply_ufunc` is a powerful function. It has many options for doing more complicated things. Unfortunately, we don't have time to go into more depth here. See the [`apply_ufunc` tutorial material](https://tutorial.xarray.dev/advanced/apply_ufunc/apply_ufunc.html) for more.\n",
    "```\n"
   ]
  },
  {
   "cell_type": "markdown",
   "metadata": {},
   "source": [
    "## Reductions\n",
    "\n",
    "Reductions are functions that reduce the dimensionlity of our dataset. For example taking the mean sea surface temperature along `time` of our 3D data, we \"reduce\" the  `time` dimension and are left with a 2D array.\n",
    "\n",
    "Just like in numpy, we can reduce xarray DataArrays along any number of axes."
   ]
  },
  {
   "cell_type": "code",
   "execution_count": null,
   "metadata": {},
   "outputs": [],
   "source": [
    "sst = ds.sst\n",
    "sst.mean(axis=0)"
   ]
  },
  {
   "cell_type": "markdown",
   "metadata": {},
   "source": [
    "However, rather than performing reductions by specifying `axis` (as in numpy), we can instead perform\n",
    "them using _dimension names_. This turns out to be a huge convenience, particularly in\n",
    "complex calculations it can be hard to remember which axis corresponds to \n",
    "which dimension name:"
   ]
  },
  {
   "cell_type": "code",
   "execution_count": null,
   "metadata": {},
   "outputs": [],
   "source": [
    "sst.mean(dim=\"time\")"
   ]
  },
  {
   "cell_type": "markdown",
   "metadata": {},
   "source": [
    "You can reduce over multiple dimensions"
   ]
  },
  {
   "cell_type": "code",
   "execution_count": null,
   "metadata": {},
   "outputs": [],
   "source": [
    "sst.mean([\"lat\", \"time\"])"
   ]
  },
  {
   "cell_type": "markdown",
   "metadata": {},
   "source": [
    "If no dimension is specified, the reduction is applied across all dimensions."
   ]
  },
  {
   "cell_type": "code",
   "execution_count": null,
   "metadata": {},
   "outputs": [],
   "source": [
    "sst.mean()"
   ]
  },
  {
   "cell_type": "markdown",
   "metadata": {},
   "source": [
    "All of the standard numpy reductions (e.g. `min`, `max`, `sum`, `std`, etc.) are\n",
    "available on both [Datasets](https://docs.xarray.dev/en/stable/api.html#aggregation) and [DataArrays](https://docs.xarray.dev/en/stable/api.html#id6).\n"
   ]
  },
  {
   "cell_type": "markdown",
   "metadata": {
    "tags": []
   },
   "source": [
    "::::{admonition} Exercise\n",
    ":class: tip\n",
    "Take the mean of `sst` in both longitude and latitude. Make a simple timeseries plot.\n",
    "\n",
    ":::{admonition} Solution\n",
    ":class: dropdown\n",
    "\n",
    "```python\n",
    "sst.mean([\"lat\", \"lon\"]).plot();\n",
    "```\n",
    ":::\n",
    "::::\n"
   ]
  }
 ],
 "metadata": {
  "language_info": {
   "codemirror_mode": {
    "name": "ipython",
    "version": 3
   },
   "file_extension": ".py",
   "mimetype": "text/x-python",
   "name": "python",
   "nbconvert_exporter": "python",
   "pygments_lexer": "ipython3"
  }
 },
 "nbformat": 4,
 "nbformat_minor": 4
}
