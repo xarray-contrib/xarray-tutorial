{
 "cells": [
  {
   "cell_type": "markdown",
   "id": "0",
   "metadata": {},
   "source": [
    "# SciPy 2025\n",
    "\n",
    "## Welcome to the Xarray SciPy 2025 Tutorial! \n",
    "\n",
    "<img src=\"https://images.squarespace-cdn.com/content/v1/6743676bb9f2e109f0ddba96/055e9b3f-965f-42c7-b496-2ba3870e216e/Logo_color-black.png?format=1500w\" align=\"right\" width=\"20%\">\n",
    "\n",
    "**Xarray**: *Friendly, Interactive, and Scalable Scientific Data Analysis*\n",
    "\n",
    "July 8, 13:30–17:30 (US/Pacific), Tacoma Convention Center Room 315\n",
    "\n",
    "This *4-hour* workshop will explore content from [the Xarray tutorial](https://tutorial.xarray.dev), which contains a comprehensive collection of hands-on tutorial Jupyter Notebooks. We will review a curated set of examples that will prepare you for increasingly complex real-world data analysis tasks!\n",
    "\n",
    ":::{admonition} Learning Goals\n",
    "- Understand xarray’s core data structures\n",
    "- Understand how to map typical xarray computations and workflows over hierarchical data\n",
    "- Understand how common storage formats correspond to the DataTree model\n",
    "- Open a public Zarr store in the cloud and manipulate the contents\n",
    ":::"
   ]
  },
  {
   "cell_type": "markdown",
   "id": "1",
   "metadata": {},
   "source": [
    "## Schedule \n",
    "\n",
    "*Times in US/Pacific Timezone (Tacoma, WA)\n",
    "\n",
    "Use the links to navigate to the right notebooks.\n",
    "\n",
    "| Topic | Time | Notebook Links | \n",
    "| :- | - | - | \n",
    "| Introduction and Setup | 1:30 (10 min) | | \n",
    "| The Xarray Data Model | 1:40 (50 min) | [Data structures](../../fundamentals/01_data_structures.md) | \n",
    "| *10 minute Break*  \n",
    "| Computational Patterns | 2:30 (50 min) |  [Computational Patterns](../../intermediate/01-high-level-computation-patterns.ipynb) <br>  |  \n",
    "| *10 minute Break*  | \n",
    "| Storage formats | 3:30 (50 min) | [Storage formats](../../intermediate/storage_formats.ipynb)  |  \n",
    "| *10 minute Break*  | \n",
    "| Zarr & the cloud | 4:30 (50 min)  | [Intro to Zarr](../../intermediate/intro-to-zarr.ipynb) |\n",
    "| | End 5:30 | |"
   ]
  },
  {
   "cell_type": "markdown",
   "id": "2",
   "metadata": {},
   "source": [
    "### Tutorial Setup\n",
    "\n",
    "We recommend using a preconfigured GitHub Codespace for this tutorial. This section describes how to access and manage a GitHub Codespace.\n",
    "\n",
    ":::{note}\n",
    "If you prefer to work on your own computer, refer to instructions in the [Getting Started Section](../../overview/get-started.md)\n",
    ":::\n",
    "\n",
    "This tutorial is available to run within [Github Codespaces](https://github.com/features/codespaces) - \"a development environment that's hosted in the cloud\".\n",
    "\n",
    "[![Open in GitHub Codespaces](https://github.com/codespaces/badge.svg)](https://github.com/codespaces/new/xarray-contrib/xarray-tutorial/tree/main?devcontainer_path=.devcontainer%2Fscipy2024%2Fdevcontainer.json)\n",
    "\n",
    "☝️ Click the button above to go to options window to launch a Github Codespace.\n",
    "\n",
    "GitHub currently gives every user [120 vCPU-hours per month for free](https://docs.github.com/en/billing/managing-billing-for-github-codespaces/about-billing-for-github-codespaces#monthly-included-storage-and-core-hours-for-personal-accounts), beyond that you must pay. **So be sure to explicitly stop your Codespace when you are done by going to this page (https://github.com/codespaces).**\n",
    "\n",
    "Once your Codespace is launched, the following happens:\n",
    "\n",
    "- [Visual Studio Code](https://code.visualstudio.com/) Interface will open up within your browser.\n",
    "- A built in terminal will open and it will execute `jupyter lab` automatically.\n",
    "- Once you see a url to click within the terminal, simply `cmd + click` the given url.\n",
    "- This will open up another tab in your browser, leading to a [Jupyter Lab](https://jupyterlab.readthedocs.io/en/latest/) Interface.\n",
    "\n",
    ":::{warning}\n",
    "Consider Codespaces as ephemeral environments. You may lose your connection and any edits you make.\n",
    ":::"
   ]
  }
 ],
 "metadata": {
  "language_info": {
   "codemirror_mode": {
    "name": "ipython",
    "version": 3
   },
   "file_extension": ".py",
   "mimetype": "text/x-python",
   "name": "python",
   "nbconvert_exporter": "python",
   "pygments_lexer": "ipython3"
  }
 },
 "nbformat": 4,
 "nbformat_minor": 5
}
