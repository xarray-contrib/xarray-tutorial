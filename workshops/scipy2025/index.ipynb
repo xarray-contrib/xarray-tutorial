{
 "cells": [
  {
   "cell_type": "markdown",
   "id": "0",
   "metadata": {},
   "source": [
    "# SciPy 2025\n",
    "\n",
    "## Welcome to the Xarray SciPy 2025 Tutorial! \n",
    "\n",
    "<img src=\"https://images.squarespace-cdn.com/content/v1/6743676bb9f2e109f0ddba96/055e9b3f-965f-42c7-b496-2ba3870e216e/Logo_color-black.png?format=1500w\" align=\"right\" width=\"20%\">\n",
    "\n",
    "**Hierarchical Data Analysis with Xarray DataTree & Zarr**\n",
    "\n",
    "July 8, 13:30–17:30 (US/Pacific), Tacoma Convention Center Room 315\n",
    "\n",
    "This *4-hour* workshop will explore content from [the Xarray tutorial](https://tutorial.xarray.dev), which contains a comprehensive collection of hands-on tutorial Jupyter Notebooks. We will review a curated set of examples that will prepare you for increasingly complex real-world data analysis tasks!\n",
    "\n",
    ":::{admonition} Learning Goals\n",
    "- Understand Xarray’s core data structures\n",
    "- Understand how to map typical Xarray computations and workflows over hierarchical data\n",
    "- Understand how common storage formats correspond to the DataTree model\n",
    "- Open a public Zarr store in the cloud and manipulate the contents\n",
    ":::"
   ]
  },
  {
   "cell_type": "markdown",
   "id": "1",
   "metadata": {},
   "source": [
    "## Schedule \n",
    "\n",
    "*Times in US/Pacific Timezone (Tacoma, WA)\n",
    "\n",
    "Use the links to navigate to the right notebooks.\n",
    "\n",
    "| Topic | Time | Notebook Links | \n",
    "| :- | - | - | \n",
    "| Introduction and Setup | 1:30 (10 min) | | \n",
    "| The Xarray Data Model | 1:40 (50 min) | [Data structures](../../fundamentals/01_data_structures.md) | \n",
    "| *10 minute Break*  \n",
    "| Computational Patterns | 2:30 (50 min) |  [Computational Patterns](../../intermediate/computation/01-high-level-computation-patterns.ipynb) <br> [Hierarchical computation](../../intermediate/computation/hierarchical_computation.ipynb) |  \n",
    "| *10 minute Break*  | \n",
    "| Zarr & the cloud | 4:30 (50 min)  | [Intro to Zarr](../../intermediate/intro-to-zarr.ipynb) <br> [CMIP6 on the cloud](../../intermediate/remote_data/cmip6-cloud.ipynb) <br> |\n",
    "| *10 minute Break*  | \n",
    "| Other storage formats | 3:30 (50 min) | [IO basics](../../fundamentals/01.1_io.ipynb) <br> [Data models](../../intermediate/storage_formats.ipynb) <br> [Custom backends](../../advanced/backends/backends.md) <br> |  \n",
    "| | End 5:30 | |"
   ]
  },
  {
   "cell_type": "markdown",
   "id": "2",
   "metadata": {},
   "source": [
    "### Tutorial Setup\n",
    "\n",
    "Refer to the [Getting Started Section](../../overview/get-started.md) for various options to run tutorial notebooks either on your personal computer or on a free Cloud-hosted server."
   ]
  }
 ],
 "metadata": {
  "language_info": {
   "codemirror_mode": {
    "name": "ipython",
    "version": 3
   },
   "file_extension": ".py",
   "mimetype": "text/x-python",
   "name": "python",
   "nbconvert_exporter": "python",
   "pygments_lexer": "ipython3"
  }
 },
 "nbformat": 4,
 "nbformat_minor": 5
}
