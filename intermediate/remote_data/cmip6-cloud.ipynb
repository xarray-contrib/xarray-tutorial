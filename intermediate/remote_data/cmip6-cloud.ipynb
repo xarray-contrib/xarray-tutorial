{
 "cells": [
  {
   "cell_type": "markdown",
   "id": "0",
   "metadata": {},
   "source": [
    "(cmip6-cloud)=\n",
    "# Zarr in Cloud Object Storage\n",
    "\n",
    "In this tutorial, we'll cover the following:\n",
    "- Finding a cloud hosted Zarr archive of CMIP6 dataset(s)\n",
    "- Remote data access to a single CMIP6 dataset (sea surface height)\n",
    "- Calculate future predicted sea level change in 2100 compared to 2015"
   ]
  },
  {
   "cell_type": "code",
   "execution_count": null,
   "id": "1",
   "metadata": {},
   "outputs": [],
   "source": [
    "import pandas as pd\n",
    "import xarray as xr"
   ]
  },
  {
   "cell_type": "markdown",
   "id": "2",
   "metadata": {},
   "source": [
    "## Finding cloud native data\n",
    "\n",
    "Cloud-native data means data that is structured for efficient querying across the network.\n",
    "Typically, this means having metadata that describes the entire file in the header of the\n",
    "file, or having a a separate pointer file (so that there is no need to download everything first).\n",
    "\n",
    "Quite commonly, you'll see cloud-native datasets stored on these\n",
    "three object storage providers, though there are many other ones too.\n",
    "\n",
    "- [Amazon Simple Storage Service (S3)](https://aws.amazon.com/s3)\n",
    "- [Azure Blob Storage](https://azure.microsoft.com/en-us/services/storage/blobs)\n",
    "- [Google Cloud Storage](https://cloud.google.com/storage)"
   ]
  },
  {
   "cell_type": "markdown",
   "id": "3",
   "metadata": {},
   "source": [
    "### Getting cloud hosted CMIP6 data\n",
    "\n",
    "The [Coupled Model Intercomparison Project Phase 6 (CMIP6)](https://en.wikipedia.org/wiki/CMIP6#CMIP_Phase_6)\n",
    "dataset is a rich archive of modelling experiments carried out to predict the climate change impacts.\n",
    "The datasets are stored using the [Zarr](https://zarr.dev) format, and we'll go over how to access it.\n",
    "\n",
    "Sources:\n",
    "- https://esgf-node.llnl.gov/search/cmip6/\n",
    "- CMIP6 data hosted on Google Cloud - https://console.cloud.google.com/marketplace/details/noaa-public/cmip6\n",
    "- Pangeo/ESGF Cloud Data Access tutorial - https://pangeo-data.github.io/pangeo-cmip6-cloud/accessing_data.html"
   ]
  },
  {
   "cell_type": "markdown",
   "id": "4",
   "metadata": {},
   "source": [
    "First, let's open a CSV containing the list of CMIP6 datasets available"
   ]
  },
  {
   "cell_type": "code",
   "execution_count": null,
   "id": "5",
   "metadata": {},
   "outputs": [],
   "source": [
    "df = pd.read_csv(\"https://cmip6.storage.googleapis.com/pangeo-cmip6.csv\")\n",
    "print(f\"Number of rows: {len(df)}\")\n",
    "df.head()"
   ]
  },
  {
   "cell_type": "markdown",
   "id": "6",
   "metadata": {},
   "source": [
    "Over 5 million rows! Let's filter it down to the variable and experiment\n",
    "we're interested in, e.g. sea surface height.\n",
    "\n",
    "For the `variable_id`, you can look it up given some keyword at\n",
    "https://docs.google.com/spreadsheets/d/1UUtoz6Ofyjlpx5LdqhKcwHFz2SGoTQV2_yekHyMfL9Y\n",
    "\n",
    "For the `experiment_id`, download the spreadsheet from\n",
    "https://github.com/ES-DOC/esdoc-docs/blob/master/cmip6/experiments/spreadsheet/experiments.xlsx,\n",
    "go to the 'experiment' tab, and find the one you're interested in.\n",
    "\n",
    "Another good place to find the right model runs is https://esgf-node.llnl.gov/search/cmip6\n",
    "(once you get your head around the acronyms and short names)."
   ]
  },
  {
   "cell_type": "markdown",
   "id": "7",
   "metadata": {},
   "source": [
    "Below, we'll filter to CMIP6 experiments matching:\n",
    "- Sea Surface Height Above Geoid [m] (variable_id: `zos`)\n",
    "- Shared Socioeconomic Pathway 5 (experiment_id: `ssp585`)"
   ]
  },
  {
   "cell_type": "code",
   "execution_count": null,
   "id": "8",
   "metadata": {},
   "outputs": [],
   "source": [
    "df_zos = df.query(\"variable_id == 'zos' & experiment_id == 'ssp585'\")\n",
    "df_zos"
   ]
  },
  {
   "cell_type": "markdown",
   "id": "9",
   "metadata": {},
   "source": [
    "There's 272 modelled scenarios for SSP5.\n",
    "Let's just get the URL to the first one in the list for now."
   ]
  },
  {
   "cell_type": "code",
   "execution_count": null,
   "id": "10",
   "metadata": {},
   "outputs": [],
   "source": [
    "print(df_zos.zstore.iloc[0])"
   ]
  },
  {
   "cell_type": "markdown",
   "id": "11",
   "metadata": {},
   "source": [
    "## Reading from the remote Zarr storage"
   ]
  },
  {
   "cell_type": "markdown",
   "id": "12",
   "metadata": {},
   "source": [
    "If Zarr-python is version 3 or greater, we can simply pass URIs to Zarr Stores to `xr.open_zarr`. Note that anonymous access is used by default."
   ]
  },
  {
   "cell_type": "code",
   "execution_count": null,
   "id": "13",
   "metadata": {},
   "outputs": [],
   "source": [
    "ds = xr.open_zarr(\n",
    "    \"gs://cmip6/CMIP6/ScenarioMIP/NOAA-GFDL/GFDL-ESM4/ssp585/r1i1p1f1/Omon/zos/gn/v20180701/\",\n",
    "    consolidated=True,\n",
    ")\n",
    "ds"
   ]
  },
  {
   "cell_type": "markdown",
   "id": "14",
   "metadata": {},
   "source": [
    "### Selecting time slices\n",
    "\n",
    "Let's say we want to calculate sea level change between\n",
    "2015 and 2100. We can access just the specific time points\n",
    "needed using [`xr.Dataset.sel`](https://docs.xarray.dev/en/stable/generated/xarray.Dataset.sel.html)."
   ]
  },
  {
   "cell_type": "code",
   "execution_count": null,
   "id": "15",
   "metadata": {},
   "outputs": [],
   "source": [
    "zos_2015jan = ds.zos.sel(time=\"2015-01-16\").squeeze()\n",
    "zos_2100dec = ds.zos.sel(time=\"2100-12-16\").squeeze()"
   ]
  },
  {
   "cell_type": "markdown",
   "id": "16",
   "metadata": {},
   "source": [
    "Sea level change would just be 2100 minus 2015."
   ]
  },
  {
   "cell_type": "code",
   "execution_count": null,
   "id": "17",
   "metadata": {},
   "outputs": [],
   "source": [
    "sealevelchange = zos_2100dec - zos_2015jan"
   ]
  },
  {
   "cell_type": "markdown",
   "id": "18",
   "metadata": {},
   "source": [
    "Note that up to this point, we have not actually downloaded any\n",
    "(big) data yet from the cloud. This is all working based on\n",
    "metadata only.\n",
    "\n",
    "To bring the data from the cloud to your local computer, call `.compute`.\n",
    "This will take a while depending on your connection speed."
   ]
  },
  {
   "cell_type": "code",
   "execution_count": null,
   "id": "19",
   "metadata": {},
   "outputs": [],
   "source": [
    "sealevelchange = sealevelchange.compute()"
   ]
  },
  {
   "cell_type": "markdown",
   "id": "20",
   "metadata": {},
   "source": [
    "We can do a quick plot to show how Sea Level is predicted to change\n",
    "between 2015-2100 (from one modelled experiment)."
   ]
  },
  {
   "cell_type": "code",
   "execution_count": null,
   "id": "21",
   "metadata": {},
   "outputs": [],
   "source": [
    "sealevelchange.plot.imshow()"
   ]
  },
  {
   "cell_type": "markdown",
   "id": "22",
   "metadata": {},
   "source": [
    "Notice the blue parts between -40 and -60 South where sea level has dropped?\n",
    "That's to do with the Antarctic ice sheet losing mass and resulting in a lower\n",
    "gravitational pull, resulting in a relative decrease in sea level. Over most\n",
    "of the Northern Hemisphere though, sea level rise has increased between 2015 and 2100."
   ]
  },
  {
   "cell_type": "markdown",
   "id": "23",
   "metadata": {},
   "source": [
    "That's all! Hopefully this will get you started on accessing more cloud-native datasets!"
   ]
  }
 ],
 "metadata": {
  "language_info": {
   "codemirror_mode": {
    "name": "ipython",
    "version": 3
   },
   "file_extension": ".py",
   "mimetype": "text/x-python",
   "name": "python",
   "nbconvert_exporter": "python",
   "pygments_lexer": "ipython3"
  }
 },
 "nbformat": 4,
 "nbformat_minor": 5
}
