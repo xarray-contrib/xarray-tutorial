{
 "cells": [
  {
   "cell_type": "markdown",
   "metadata": {},
   "source": [
    "# Hierarchical storage formats\n",
    "\n",
    "In the fundamentals section we saw that xarray can read and write to a variety of storage formats. We have also seen that xarray's data model can include a hierarchy of groups as part of an `xarray.DataTree` object.\n",
    "\n",
    "The design of each format makes certain choices, and here we will compare the structure of common data formats to xarray's full data model, concentrating on subtle differences."
   ]
  },
  {
   "cell_type": "markdown",
   "metadata": {},
   "source": [
    "## Xarray is not a file format\n",
    "\n",
    "You sometimes hear people say things like \"save it as an xarray\". This does not make sense, because xarray is not a file-format, it is an in-memory data structure. It's analogous to the difference between a CSV file and a `pandas.DataFrame`.\n",
    "\n",
    "Xarray data structures were inspired by scientific file formats (particularly netCDF), but are not intended to be identical to any of them. This helps xarray be a completely domain-agnostic tool. \n",
    "\n",
    "Xarray supports reading from and writing to a range of file formats, but as common file formats have differences in their design, xarray data structures cannot be exactly equivalent to all of them.\n",
    "\n",
    "Overall though this makes sense because the use case is different: in-memory data is for analysis, on-disk data is for persistent storage."
   ]
  },
  {
   "cell_type": "markdown",
   "metadata": {},
   "source": [
    "## Groups everywhere\n",
    "\n",
    "Many storage formats for scientific data include some notion of \"groups\". \n",
    "\n",
    "The exact meaning of \"group\" differs between formats but  are all ultimately motivated by a common recognition: that real scientific datasets often include related but otherwise heterogenous data."
   ]
  },
  {
   "cell_type": "markdown",
   "metadata": {},
   "source": [
    "## Zarr"
   ]
  },
  {
   "cell_type": "markdown",
   "metadata": {},
   "source": [
    "We'll start with Zarr, because it has the most simple type of heirarchical structure."
   ]
  },
  {
   "cell_type": "markdown",
   "metadata": {},
   "source": [
    "* **Tree of groups** – Tree of arbitrary groups.\n",
    "\n",
    "* **Separate groups** – No relationship enforced between groups, and no references from one group to another.\n",
    "\n",
    "* **Separate arrays** – No relationship enforced between arrays within a group.\n",
    "\n",
    "* **Arbitrary JSON metadata** – Each holds arbitrary data in the form of arrays + metadata."
   ]
  },
  {
   "cell_type": "markdown",
   "metadata": {},
   "source": [
    "![ZarrSpec](https://zarr-specs.readthedocs.io/en/latest/_images/terminology-hierarchy.excalidraw.png)"
   ]
  },
  {
   "cell_type": "markdown",
   "metadata": {},
   "source": [
    "### How does zarr relate to `xarray`?\n",
    "\n",
    "* **Arrays <-> `Variables`** - zarr arrays map well to `xarray.Variables`\n",
    "  - Especially as zarr v3 includes (optional) `dimension_names`\n",
    "\n",
    "* **Groups <-> `Datasets`** - zarr groups map reasonably well to `xarray.Dataset` objects\n",
    "  - Open a single zarr group in xarray via `xr.open_dataset(store, group='/path', engine='zarr')`\n",
    "\n",
    "* **Groups must be alignable** - But `xarray.Dataset`s require that all arrays in the Dataset have aligned dimensions\n",
    "  - so it is possible to create a zarr group that is not a valid `xarray.Dataset`, if the group contains arrays with non-aligning dimensions\n",
    "\n",
    "* **No \"coordinates\"** – No arrays are special, so Zarr has no intrinsic concept of \"coordinate\" vs \"data\" variables.\n",
    "  - So xarray has to save this piece of information as an additional piece of zarr metadata.\n",
    "\n",
    "* **Tree of groups <-> `DataTree`** - zarr store has a tree of groups\n",
    "  - maps to either a set of independent `xarray.Datasets`\n",
    "    - `xr.open_groups(store)`\n",
    "  - or to a single `xarray.DataTree`\n",
    "    - `xr.open_datatree(store)`\n",
    "    - `xarray.DataTree` enforces alignment between coordinates in parents and child groups\n",
    "      - means that you could write two `xarray.Datasets` as separate zarr groups that cannot be opened as one `xarray.DataTree`\n",
    "    - coordinate inheritance also means that inherited coordinates are implicitly present on child groups in the `DataTree`, but not saved explicitly into each zarr group."
   ]
  },
  {
   "cell_type": "markdown",
   "metadata": {},
   "source": [
    "## HDF5\n",
    "\n",
    "HDF5 (Hierarchical Data Format, version 5) is a **general-purpose container** for large, heterogeneous, hierarchical data.  It includes these core components:\n",
    "\n",
    "* **Groups**  \n",
    "\n",
    " *Nodes* in a directed graph that starts at the root /.  \n",
    "\n",
    " They behave like folders in a UNIX filesystem (absolute paths, /sub/group/dataset), and *may* form cycles or self-links—although most scientific tools avoid that complexity.\n",
    "\n",
    "\n",
    "* **Datasets**  \n",
    "\n",
    " Rectangular N-dimensional arrays stored inside groups.  \n",
    "\n",
    " Each dimension can optionally carry a **dimension scale**, an auxiliary dataset that describes the coordinate values along that axis.\n",
    "\n",
    "* **Attributes**  \n",
    "\n",
    " Small pieces of metadata (strings, scalars, short arrays) attached to the file, any group, or any dataset.\n",
    "\n",
    "* **Storage features**  \n",
    "\n",
    " Chunking, compression, checksums, parallel I/O via MPI-IO, and more.  \n",
    "\n",
    " These are orthogonal to the logical data model.\n",
    "\n",
    "## NetCDF4"
   ]
  },
  {
   "cell_type": "markdown",
   "metadata": {},
   "source": [
    "NetCDF4 builds upon HDF5 - it is really an opinionated subset of HDF5. From the [netCDF documentation](https://docs.unidata.ucar.edu/nug/current/file_structure_and_performance.html#:~:text=(Note%20that%20modifying%20these%20files%20with%20HDF5%20will%20almost%20certainly%20make%20them%20unreadable%20to%20netCDF%2D4.)):\n",
    "\n",
    "> (Note that modifying these files with HDF5 will almost certainly make them unreadable to netCDF-4.)"
   ]
  },
  {
   "cell_type": "markdown",
   "metadata": {},
   "source": [
    "### How does HDF5/netCDF4 relate to xarray?\n",
    "\n",
    "Generally very similar - not surprising as netCDF4 was the inspiration for xarray\n",
    "\n",
    "#### Similarities\n",
    "- HDF groups can often be represented by groups in a `DataTree`\n",
    "- Netcdf4 `Datasets` correspond to xarray `Datasets` (or to groups in the `DataTree`)\n",
    "- NetCDF4 requires that every HDF5 dataset must have a dimension scale attached to each dimension.\n",
    "  - These end up working quite similarly to xarray's dimension coordinates\n"
   ]
  },
  {
   "cell_type": "markdown",
   "metadata": {},
   "source": [
    "#### Differences\n",
    "- The group structure is not technically a tree - cycles and self-references are allowed in HDF5, unlike in `xarray.DataTree`.\n",
    "HDF5 supports links between groups, but xarray does not\n",
    "  - (Note that this is consistent with UNIX filesystems, which support symbolic links between directories)\n",
    "- NetCDF has an explicit concept of a dimension as a first-class object, which neither HDF5 nor xarray have\n",
    "  - means that e.g. a scalar variable can have a dimension in netCDF, but not in xarray"
   ]
  },
  {
   "cell_type": "markdown",
   "metadata": {},
   "source": [
    "## TIFF"
   ]
  },
  {
   "cell_type": "markdown",
   "metadata": {},
   "source": [
    "TIFF (Tag Image File Format) is a raster container widely used in biosciences, remote sensing and GIS. \n",
    "\n",
    "A **GeoTIFF** is simply a TIFF that stores additional additional georeferencing information tags (CRS, affine transform, etc.) so geospatial software knows where each pixel sits on Earth. \n",
    "\n",
    "* **Images (“IFDs”)** – each “page” in a TIFF holds a 2-D array of pixels.  \n",
    "\n",
    "  Multi-band rasters (e.g. RGB, multi-spectral) appear as *separate* IFDs or as extra samples within one IFD.\n",
    "\n",
    "* **Tags** – key–value metadata pairs (datatype, compression, nodata value, CRS, resolution, etc.).  \n",
    "  \n",
    "  GeoTIFF adds standardised tags like ModelPixelScaleTag, ModelTiepointTag, GeoKeyDirectoryTag.\n",
    "\n",
    "* **Compression / tiling** – DEFLATE, LZW, etc. Tiling lets software fetch small windows efficiently.\n",
    "\n",
    "* **Cloud-optimized GeoTIFF (COG)** – same format, arranged so HTTP range requests can stream windows efficiently; xarray handles it transparently when rasterio is compiled with libcurl."
   ]
  },
  {
   "cell_type": "markdown",
   "metadata": {},
   "source": [
    "### How does TIFF relate to xarray?\n",
    "\n",
    "* **Dimensionality** – Each raster image maps well to a single `xarray.Variable`, but TIFF is inherently 2-D per band; no native time or vertical axis. If you need 4-D data, NetCDF or Zarr is usually a better fit.\n",
    "\n",
    "* **No named dimensions** - TIFFs don't have named dimensions for the two axes of the raster.\n",
    "\n",
    "* **IFDs as groups** -  IFDs can be mapped to groups, which may be useful for multi-resolution TIFFs (also known as \"overviews\") and multi-page TIFFs.\n",
    "\n",
    "* **Metadata depth** – single-level tags only (no nested groups). For rich hierarchies, stick to HDF5 / NetCDF-4.\n",
    "\n",
    "* **Read** – use `rioxarray.open_rasterio()` (wraps rasterio) to get an immediate, Dask-chunked DataArray. However `rioxarray` is for interacting with GeoTIFFs, not general TIFFs.\n",
    "\n",
    "* **Write** – `DataArray.rio.to_raster(\"out.tif\")`; choose compression + tiling via driver_kwargs."
   ]
  },
  {
   "cell_type": "markdown",
   "metadata": {},
   "source": [
    "## Mapping storage formats to one another\n",
    "\n",
    "Note that while we have discussed mapping various file formats to the xarray data model, it is also possible to map different file formats to one another.\n",
    "\n",
    "For example, the [VirtualiZarr](https://github.com/zarr-developers/VirtualiZarr) library maps a range of file formats (including HDF5 and TIFF) to the Zarr data model, to allow reading data from those formats via the zarr-python API."
   ]
  },
  {
   "cell_type": "markdown",
   "metadata": {},
   "source": []
  }
 ],
 "metadata": {
  "language_info": {
   "name": "python"
  }
 },
 "nbformat": 4,
 "nbformat_minor": 2
}
