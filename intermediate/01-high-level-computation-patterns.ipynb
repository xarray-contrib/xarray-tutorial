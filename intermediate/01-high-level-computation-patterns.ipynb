{
 "cells": [
  {
   "cell_type": "markdown",
   "id": "0",
   "metadata": {
    "slideshow": {
     "slide_type": "slide"
    },
    "tags": []
   },
   "source": [
    "# Computational Patterns\n",
    "\n",
    "Often when writing code we repeat certain patterns, whether we realize it or not.\n",
    "If you have learned to write list comprehensions, you are taking advantage of a \"control pattern\".\n",
    "Often, these patterns are so common that many packages have built in functions to implement them.\n",
    "\n",
    "Quoting the [toolz documentation](https://toolz.readthedocs.io/en/latest/control.html):\n",
    "\n",
    "> The Toolz library contains dozens of patterns like map and groupby. Learning a\n",
    "> core set (maybe a dozen) covers the vast majority of common programming tasks\n",
    "> often done by hand. A rich vocabulary of core control functions conveys the\n",
    "> following benefits:\n",
    ">\n",
    "> - You identify new patterns\n",
    "> - You make fewer errors in rote coding\n",
    "> - You can depend on well tested and benchmarked implementations\n",
    "\n",
    "The same is true for xarray.\n",
    "\n",
    "\n",
    "```{seealso}\n",
    "\n",
    "The concepts covered here, particularly the emphasis on deleting for loops and focusing on large elements of the computation, are very related to the [array programming style](https://en.wikipedia.org/wiki/Array_programming) or paradigm. See this SciPy 2023 tutorial on [\"Thinking Like Arrays\"](https://github.com/jpivarski-talks/2023-07-11-scipy2023-tutorial-thinking-in-arrays) by Jim Pivarski if you are interested in these ideas.\n",
    "```"
   ]
  },
  {
   "cell_type": "markdown",
   "id": "1",
   "metadata": {
    "slideshow": {
     "slide_type": "slide"
    },
    "tags": []
   },
   "source": [
    "## Motivation / Learning goals\n",
    "\n",
    "- Learn what high-level computational patterns are available in Xarray.\n",
    "- Learn that these patterns replace common uses of the `for` loop.\n",
    "- Identify when you are re-implementing an existing computational pattern.\n",
    "- Implement that pattern using built-in Xarray functionality.\n",
    "- Understand the difference between `map` and `reduce`."
   ]
  },
  {
   "cell_type": "markdown",
   "id": "2",
   "metadata": {
    "slideshow": {
     "slide_type": "subslide"
    },
    "tags": []
   },
   "source": [
    "## Xarray's high-level patterns\n",
    "\n",
    "Xarray allows you to leverage dataset metadata to write more readable analysis\n",
    "code. The metadata is stored with the data; not in your head.\n",
    "\n",
    "1. Dimension names: `dim=\"latitude\"` instead of `axis=0`\n",
    "2. Coordinate \"labels\": or axis tick labels. `data.sel(latitude=45)` instead of\n",
    "   `data[10]`\n",
    "\n",
    "Xarray also provides computational patterns that cover many data\n",
    "analysis tasks.\n",
    "\n",
    "Xarray provides methods for high-level analysis patterns:\n",
    "\n",
    "1. [`rolling`](<inv:xarray#*rolling-window-operations>) :\n",
    "   Operate on rolling or sliding (fixed length, overlapping) windows of your data e.g. running mean.\n",
    "1. [`coarsen`](<inv:xarray#*coarsen-large-arrays>) :\n",
    "   Operate on blocks (fixed length) of your data (downsample).\n",
    "1. [`groupby`](<inv:xarray:py:method:#*.DataArray.groupby>) :\n",
    "   Parse data into groups (using an exact value) and operate on each one (reduce data).\n",
    "1. [`groupby_bins`](<inv:xarray:py:method:#*.DataArray.groupby_bins>): GroupBy after discretizing a numeric (non-exact, e.g. float) variable.\n",
    "1. [`resample`](<inv:xarray#*resampling-and-grouped-operations>) :\n",
    "   [Groupby specialized for time axes. Either downsample or upsample your data.]\n",
    "1. [`weighted`](<inv:xarray#*weighted-array-reductions>): Weight your data before reducing.\n",
    "\n",
    "\n",
    "```{note}\n",
    "The documentation links in this tutorial point to the DataArray implementations of each function, but they are also available for DataSet objects.\n",
    "```\n"
   ]
  },
  {
   "cell_type": "markdown",
   "id": "3",
   "metadata": {
    "slideshow": {
     "slide_type": "slide"
    },
    "tags": []
   },
   "source": [
    "### Load example dataset\n"
   ]
  },
  {
   "cell_type": "code",
   "execution_count": null,
   "id": "4",
   "metadata": {
    "tags": []
   },
   "outputs": [],
   "source": [
    "import numpy as np\n",
    "import xarray as xr\n",
    "import matplotlib.pyplot as plt\n",
    "\n",
    "# reduce figure size\n",
    "plt.rcParams[\"figure.dpi\"] = 90\n",
    "xr.set_options(keep_attrs=True, display_expand_data=False)\n",
    "\n",
    "da = xr.tutorial.load_dataset(\"air_temperature\", engine=\"netcdf4\").air\n",
    "monthly = da.resample(time=\"ME\").mean()\n",
    "data = da.isel(time=0)\n",
    "data.plot();"
   ]
  },
  {
   "cell_type": "code",
   "execution_count": null,
   "id": "5",
   "metadata": {
    "tags": []
   },
   "outputs": [],
   "source": [
    "da"
   ]
  },
  {
   "cell_type": "markdown",
   "id": "6",
   "metadata": {},
   "source": [
    "***\n",
    "\n",
    "### Identifying high-level computation patterns\n",
    "\n",
    "*or, when should I use these functions?*\n",
    "\n",
    "Consider a common use case. We want to complete some \"task\" for each of \"something\". The \"task\" might be a computation (e.g. mean, median, plot). The \"something\" could be a group of array values (e.g. pixels) or segments of time (e.g. monthly or seasonally).\n",
    "\n",
    "Often, our solution to this type of problem is to write a for loop. Say we want the average air temperature for each month across the entire domain (all lat and lon values):"
   ]
  },
  {
   "cell_type": "code",
   "execution_count": null,
   "id": "7",
   "metadata": {
    "tags": []
   },
   "outputs": [],
   "source": [
    "months = [1, 2, 3, 4, 5, 6, 7, 8, 9, 10, 11, 12]\n",
    "avg_temps = []\n",
    "\n",
    "# for loop\n",
    "for mon in months:\n",
    "    # filter data, split out in to groups\n",
    "    subset = da[da[\"time.month\"] == mon]\n",
    "    # do some computation\n",
    "    avg = subset.mean()\n",
    "    # append to existing results\n",
    "    avg_temps.append(avg.item())\n",
    "\n",
    "print(avg_temps)"
   ]
  },
  {
   "cell_type": "markdown",
   "id": "8",
   "metadata": {},
   "source": [
    "This pattern is the GroupBy pattern.\n",
    "\n",
    "\n",
    "An easy conceptual next step for this example (but still using our for loop) would be to use Xarray's `groupby` function to create an iterator that does the work of grouping our data by month and looping over each month."
   ]
  },
  {
   "cell_type": "code",
   "execution_count": null,
   "id": "9",
   "metadata": {
    "tags": []
   },
   "outputs": [],
   "source": [
    "avg_temps = []\n",
    "\n",
    "for label, group in da.groupby(\"time.month\"):\n",
    "    avg_temps.append(float(group.mean().data))\n",
    "\n",
    "print(avg_temps)"
   ]
  },
  {
   "cell_type": "markdown",
   "id": "10",
   "metadata": {},
   "source": [
    "Writing a for-loop here is not wrong, but it can quickly become cumbersome if you have a complex function to apply and it will take a while to compute on a large dataset (you may even run out of memory). Parallelizing the computation would take a lot of additional work.\n",
    "\n",
    "Xarray's functionality instead allows us to do the same computation in one line of code (plus, the computation is optimized and ready to take advantage of parallel compute resources)!"
   ]
  },
  {
   "cell_type": "code",
   "execution_count": null,
   "id": "11",
   "metadata": {},
   "outputs": [],
   "source": [
    "# note the use of the ellipses here\n",
    "# for easy comparison to the for loop above\n",
    "avg_temps = da.groupby(\"time.month\").mean(...)\n",
    "print(avg_temps.data)"
   ]
  },
  {
   "cell_type": "markdown",
   "id": "12",
   "metadata": {},
   "source": [
    "```{note}\n",
    ":class: dropdown\n",
    "By default, `da.mean()` (and `df.mean()`) will calculate the mean by reducing your data over all dimensions (unless you specify otherwise using the `dim` kwarg). The default behavior of `.mean()` on a groupby is to calculate the mean over all dimensions of the variable you are grouping by - but not all the dimensions of the object you are operating on. To compute the mean across all dimensions of a groupby, we must specify `...` for all dimensions (or use the `dim` kwarg to specify which dimensions to reduce by).\n",
    "\n",
    "```\n",
    "\n",
    "Here we showed an example for computing a mean over a certain period of time (months), which ultimately uses the `GroupBy` function to group together observations with similar characteristics that are scattered through the dataset. The transition from loops to a built-in function is similar for `rolling` and `coarsen` over sequential windows of values (e.g. pixels) instead of \"groups\" of time.\n",
    "\n",
    "Read on through this tutorial to learn some of the incredible ways to use Xarray to avoid writing long for-loops and efficiently complete computational analyses on your data.\n",
    "\n",
    "```{seealso}\n",
    ":class: dropdown\n",
    "For a more complex example (identifying flood events - including their start and end date - from rainfall data) illustrating the transition from for loops to high level computation tools, see [this discussion](https://github.com/pydata/xarray/discussions/7641). The [original 40 lines of code](https://github.com/pydata/xarray/discussions/7641#discussion-4976005), including nested for loops, was streamlined into a ~15 line workflow without any loops.\n",
    "```"
   ]
  },
  {
   "cell_type": "markdown",
   "id": "13",
   "metadata": {
    "slideshow": {
     "slide_type": "slide"
    },
    "tags": []
   },
   "source": [
    "***\n",
    "\n",
    "### Concept refresher: \"index space\" vs \"label space\"\n"
   ]
  },
  {
   "cell_type": "code",
   "execution_count": null,
   "id": "14",
   "metadata": {},
   "outputs": [],
   "source": [
    "data"
   ]
  },
  {
   "cell_type": "code",
   "execution_count": null,
   "id": "15",
   "metadata": {
    "tags": []
   },
   "outputs": [],
   "source": [
    "# index space\n",
    "data[10, :]  # 10th element along the first axis; ¯\\_(ツ)_/¯"
   ]
  },
  {
   "cell_type": "code",
   "execution_count": null,
   "id": "16",
   "metadata": {
    "tags": []
   },
   "outputs": [],
   "source": [
    "# slightly better index space\n",
    "data.isel(lat=10)  # slightly better, 10th element in latitude"
   ]
  },
  {
   "cell_type": "code",
   "execution_count": null,
   "id": "17",
   "metadata": {
    "tags": []
   },
   "outputs": [],
   "source": [
    "# \"label\" space\n",
    "data.sel(lat=50)  # much better! lat=50°N"
   ]
  },
  {
   "cell_type": "code",
   "execution_count": null,
   "id": "18",
   "metadata": {
    "slideshow": {
     "slide_type": "subslide"
    },
    "tags": []
   },
   "outputs": [],
   "source": [
    "# What I wanted to do\n",
    "data.sel(lat=50)\n",
    "\n",
    "# What I had to do (if I wasn't using xarray)\n",
    "data[10, :]"
   ]
  },
  {
   "cell_type": "markdown",
   "id": "19",
   "metadata": {},
   "source": [
    "***\n",
    "\n",
    "## Xarray provides patterns in both \"index space\" and \"label space\"\n",
    "\n",
    "### Index space\n",
    "\n",
    "These are sequential windowed operations with a window of a fixed size.\n",
    "\n",
    "1. [`rolling`](<inv:xarray#*rolling-window-operations>) :\n",
    "   Operate on rolling or sliding (fixed length, overlapping) windows of your data e.g. running mean.\n",
    "1. [`coarsen`](<inv:xarray#*coarsen-large-arrays>) :\n",
    "   Operate on blocks (fixed length) of your data (downsample).\n",
    "\n",
    "\n",
    "### Label space\n",
    "\n",
    "These are windowed operations with irregular windows based on your data. Members of a single group may be non-sequential and scattered through the dataset.\n",
    "\n",
    "1. [`groupby`](<inv:xarray:py:method:#*.DataArray.groupby>) :\n",
    "   Parse data into groups (using an exact value) and operate on each one (reduce data).\n",
    "1. [`groupby_bins`](<inv:xarray:py:method:#*.DataArray.groupby_bins> ): GroupBy after discretizing a numeric (non-exact, e.g. float) variable.\n",
    "1. [`resample`](<inv:xarray#*resampling-and-grouped-operations>) :\n",
    "   Groupby specialized for time axes. Either downsample or upsample your data.\n"
   ]
  },
  {
   "cell_type": "markdown",
   "id": "20",
   "metadata": {
    "slideshow": {
     "slide_type": "subslide"
    },
    "tags": []
   },
   "source": [
    "add some \"loop\" versions to show what a user might come up with that could be turned into one of these pattern operations\n",
    "\n",
    "---\n",
    "\n",
    "## Index space: windows of fixed width\n",
    "\n",
    "### Sliding windows of fixed length: [`rolling`](<inv:xarray:py:method:#*.DataArray.rolling>)\n",
    "\n",
    "- Supports common reductions : `sum`, `mean`, `count`, `std`, `var` etc.\n",
    "- Returns object of same shape as input\n",
    "- Pads with NaNs to make this happen\n",
    "- Supports multiple dimensions\n",
    "\n",
    "Here's the dataset\n"
   ]
  },
  {
   "cell_type": "code",
   "execution_count": null,
   "id": "21",
   "metadata": {},
   "outputs": [],
   "source": [
    "data.plot();"
   ]
  },
  {
   "cell_type": "markdown",
   "id": "22",
   "metadata": {},
   "source": [
    "And now smoothed 5 point running mean in lat and lon\n"
   ]
  },
  {
   "cell_type": "code",
   "execution_count": null,
   "id": "23",
   "metadata": {},
   "outputs": [],
   "source": [
    "data.rolling(lat=5, lon=5, center=True).mean().plot();"
   ]
  },
  {
   "cell_type": "markdown",
   "id": "24",
   "metadata": {
    "slideshow": {
     "slide_type": "subslide"
    },
    "tags": []
   },
   "source": [
    "#### Apply an existing numpy-only function with `reduce`\n",
    "\n",
    "In some cases, we may want to apply a sliding window function using rolling that is not built in to Xarray. In these cases we can still leverage the sliding windows of rolling and apply our own function with [`reduce`](<inv:xarray:py:method:#*.DataArrayRolling.reduce>).\n",
    "\n",
    "The `reduce` method on Xarray objects (e.g. DataArray, Dataset) expects a function that can *receive and return plain arrays (e.g. numpy)*, as in each of the \"windows\" provided by the rolling iterator. This is in contrast to the `map` method on DataArray and Dataset objects, which expects a function that can receive and return Xarray objects.\n",
    "\n",
    "Here's an example function: [`np.ptp`](<inv:numpy:py:function:#*numpy.ptp>).\n"
   ]
  },
  {
   "cell_type": "code",
   "execution_count": null,
   "id": "25",
   "metadata": {},
   "outputs": [],
   "source": [
    "data.rolling(lat=5, lon=5, center=True).reduce(np.ptp).plot();"
   ]
  },
  {
   "cell_type": "markdown",
   "id": "26",
   "metadata": {},
   "source": [
    "::::{admonition} Exercise\n",
    ":class: tip\n",
    "\n",
    "Calculate the rolling mean in 5 point bins along both latitude and longitude using\n",
    "[`rolling(...).reduce`](<inv:xarray:py:method:#*.DataArrayRolling.reduce>)\n",
    "\n",
    ":::{admonition} Solution\n",
    ":class: dropdown\n",
    "\n",
    "```python\n",
    "# exactly equivalent to data.rolling(...).mean()\n",
    "data.rolling(lat=5, lon=5, center=True).reduce(np.mean).plot();\n",
    "```\n",
    ":::\n",
    "::::"
   ]
  },
  {
   "cell_type": "markdown",
   "id": "27",
   "metadata": {
    "slideshow": {
     "slide_type": "subslide"
    },
    "tags": []
   },
   "source": [
    "#### View the `rolling` operation as a Xarray object with `construct`\n",
    "\n",
    "In the above examples, we plotted the outputs of our rolling operations. Xarray makes it easy to integrate the outputs from `rolling` directly into the DataArray using the <inv:xarray:py:method:#*.DataArrayRolling.construct> method.\n"
   ]
  },
  {
   "cell_type": "code",
   "execution_count": null,
   "id": "28",
   "metadata": {},
   "outputs": [],
   "source": [
    "simple = xr.DataArray(np.arange(10), dims=\"time\", coords={\"time\": np.arange(10)})\n",
    "simple"
   ]
  },
  {
   "cell_type": "code",
   "execution_count": null,
   "id": "29",
   "metadata": {},
   "outputs": [],
   "source": [
    "# adds a new dimension \"window\"\n",
    "simple.rolling(time=5, center=True).construct(\"window\")"
   ]
  },
  {
   "cell_type": "markdown",
   "id": "30",
   "metadata": {},
   "source": [
    "```{note}\n",
    "Because `.construct()` only returns a \"view\" (not a copy) of the original data object (i.e. it is not operating \"in-place\"), in order to \"save\" the results you would need to rewrite the original object: `simple = simple.rolling(time=5, center=True).construct(\"window\")`.\n",
    "```"
   ]
  },
  {
   "cell_type": "markdown",
   "id": "31",
   "metadata": {},
   "source": [
    "::::{admonition} Exercise\n",
    ":class: tip\n",
    "Calculate the 5 point running mean in time using `rolling.construct`\n",
    "\n",
    ":::{admonition} Solution\n",
    ":class: dropdown\n",
    "\n",
    "```python\n",
    "simple.rolling(time=5, center=True).construct(\"window\").mean(\"window\")\n",
    "```\n",
    ":::\n",
    "::::"
   ]
  },
  {
   "cell_type": "markdown",
   "id": "32",
   "metadata": {},
   "source": [
    "`construct` is clever.\n",
    "\n",
    "1. It constructs a [**view**](https://numpy.org/doc/stable/user/basics.copies.html) of the original array, so it is memory-efficient.\n",
    "1. It does something sensible for dask arrays (though generally you want big chunksizes for the dimension you're sliding along).\n",
    "1. It also works with rolling along multiple dimensions!\n"
   ]
  },
  {
   "cell_type": "markdown",
   "id": "33",
   "metadata": {
    "tags": []
   },
   "source": [
    "#### Advanced: Another `construct` example\n",
    "\n",
    "This is a 2D rolling example; we need to provide two new dimension names.\n"
   ]
  },
  {
   "cell_type": "code",
   "execution_count": null,
   "id": "34",
   "metadata": {},
   "outputs": [],
   "source": [
    "data.rolling(lat=5, lon=5, center=True).construct(lat=\"lat_roll\", lon=\"lon_roll\")"
   ]
  },
  {
   "cell_type": "markdown",
   "id": "35",
   "metadata": {
    "slideshow": {
     "slide_type": "subslide"
    },
    "tags": []
   },
   "source": [
    "***\n",
    "\n",
    "### Block windows of fixed length: `coarsen`\n",
    "\n",
    "For non-overlapping windows or \"blocks\" use [`coarsen`](<inv:xarray:py:method:#*.DataArray.coarsen>). The syntax is very similar to `rolling`. You will need to specify how you want Xarray to handle the `boundary` if the length of the dimension is not a multiple of the block size.\n",
    "\n",
    "\n",
    "- Supports common reductions : `sum`, `mean`, `count`, `std`, `var` etc.\n",
    "- Does **not** return an object of same shape as input\n",
    "- Allows controls over behaviour at boundaries\n",
    "- Supports multiple dimensions"
   ]
  },
  {
   "cell_type": "code",
   "execution_count": null,
   "id": "36",
   "metadata": {},
   "outputs": [],
   "source": [
    "data"
   ]
  },
  {
   "cell_type": "code",
   "execution_count": null,
   "id": "37",
   "metadata": {},
   "outputs": [],
   "source": [
    "data.plot();"
   ]
  },
  {
   "cell_type": "code",
   "execution_count": null,
   "id": "38",
   "metadata": {},
   "outputs": [],
   "source": [
    "data.coarsen(lat=5, lon=5, boundary=\"trim\").mean()"
   ]
  },
  {
   "cell_type": "code",
   "execution_count": null,
   "id": "39",
   "metadata": {},
   "outputs": [],
   "source": [
    "(data.coarsen(lat=5, lon=5, boundary=\"trim\").mean().plot())"
   ]
  },
  {
   "cell_type": "markdown",
   "id": "40",
   "metadata": {
    "slideshow": {
     "slide_type": "subslide"
    },
    "tags": []
   },
   "source": [
    "#### Coarsen supports `reduce` for custom reductions\n",
    "\n",
    "::::{admonition} Exercise\n",
    ":class: tip\n",
    "Use `coarsen.reduce` to apply `np.ptp` in 5x5 (lat x lon) point blocks to `data`\n",
    "\n",
    ":::{admonition} Solution\n",
    ":class: dropdown\n",
    "\n",
    "```python\n",
    "data.coarsen(lat=5, lon=5, boundary=\"trim\").reduce(np.ptp).plot();\n",
    "```\n",
    ":::\n",
    "::::"
   ]
  },
  {
   "cell_type": "markdown",
   "id": "41",
   "metadata": {
    "slideshow": {
     "slide_type": "subslide"
    },
    "tags": []
   },
   "source": [
    "#### Coarsen supports `construct` for block reshaping and storing outputs\n",
    "\n",
    "```{tip}\n",
    "`coarsen.construct` is usually a good alternative to `np.reshape`\n",
    "```\n",
    "\n",
    "A simple example splits a 2-year long monthly 1D time series into a 2D array shaped (year x month)\n"
   ]
  },
  {
   "cell_type": "code",
   "execution_count": null,
   "id": "42",
   "metadata": {},
   "outputs": [],
   "source": [
    "months = xr.DataArray(\n",
    "    np.tile(np.arange(1, 13), reps=2),\n",
    "    dims=\"time\",\n",
    "    coords={\"time\": np.arange(1, 25)},\n",
    ")\n",
    "months"
   ]
  },
  {
   "cell_type": "code",
   "execution_count": null,
   "id": "43",
   "metadata": {},
   "outputs": [],
   "source": [
    "# break \"time\" into two new dimensions: \"year\", \"month\"\n",
    "months.coarsen(time=12).construct(time=(\"year\", \"month\"))"
   ]
  },
  {
   "cell_type": "markdown",
   "id": "44",
   "metadata": {},
   "source": [
    "Note two things:\n",
    "\n",
    "1. The `time` dimension was also reshaped.\n",
    "1. The new dimensions `year` and `month` don't have any coordinate labels\n",
    "   associated with them.\n",
    "\n",
    "What if the data had say 23 instead of 24 values (`months.isel(time=slice(1, None)`)? In that case we specify a different `boundary` (the default `boundary=\"exact\"` worked above); here we pad to 24 values.\n"
   ]
  },
  {
   "cell_type": "code",
   "execution_count": null,
   "id": "45",
   "metadata": {},
   "outputs": [],
   "source": [
    "months.isel(time=slice(1, None)).coarsen(time=12, boundary=\"pad\").construct(time=(\"year\", \"month\"))"
   ]
  },
  {
   "cell_type": "markdown",
   "id": "46",
   "metadata": {},
   "source": [
    "This adds values at the end of the array (see the 'nan' at the end of the time coordinate?), which is not so sensible for this\n",
    "problem.  We have some control of the padding through the `side` kwarg to `coarsen`. For `side=\"right\"` we get more sensible output."
   ]
  },
  {
   "cell_type": "code",
   "execution_count": null,
   "id": "47",
   "metadata": {},
   "outputs": [],
   "source": [
    "months.isel(time=slice(1, None)).coarsen(time=12, boundary=\"pad\", side=\"right\").construct(\n",
    "    time=(\"year\", \"month\")\n",
    ")"
   ]
  },
  {
   "cell_type": "markdown",
   "id": "48",
   "metadata": {},
   "source": [
    "Note that `coarsen` pads with NaNs. For more control over padding, use\n",
    "[DataArray.pad](<inv:xarray:py:method:#*.DataArray.pad>) explicitly."
   ]
  },
  {
   "cell_type": "code",
   "execution_count": null,
   "id": "49",
   "metadata": {},
   "outputs": [],
   "source": [
    "(\n",
    "    months.isel(time=slice(1, None))\n",
    "    .pad(time=(1, 0), constant_values=-1)\n",
    "    .coarsen(time=12)\n",
    "    .construct(time=(\"year\", \"month\"))\n",
    ")"
   ]
  },
  {
   "cell_type": "markdown",
   "id": "50",
   "metadata": {},
   "source": [
    "```{note}\n",
    "The value specified in `.pad` only applies the `fill_value` to the array, not to coordinate variables.\n",
    "This is why the first value of time in the above example is NaN and not -1.\n",
    "```"
   ]
  },
  {
   "cell_type": "markdown",
   "id": "51",
   "metadata": {},
   "source": [
    ":::{admonition} Exercise\n",
    ":class: tip\n",
    "Reshape the `time` dimension of the DataArray `monthly` to year x\n",
    "month and visualize the seasonal cycle for two years at 250°E\n",
    "\n",
    "\n",
    ":::{admonition} Solution\n",
    ":class: dropdown\n",
    "\n",
    "```python\n",
    "# splits time dimension into year x month\n",
    "year_month = monthly.coarsen(time=12).construct(time=(\"year\", \"month\"))\n",
    "\n",
    "# assign a nice coordinate value for month\n",
    "year_month[\"month\"] = [\n",
    "    \"jan\",\n",
    "    \"feb\",\n",
    "    \"mar\",\n",
    "    \"apr\",\n",
    "    \"may\",\n",
    "    \"jun\",\n",
    "    \"jul\",\n",
    "    \"aug\",\n",
    "    \"sep\",\n",
    "    \"oct\",\n",
    "    \"nov\",\n",
    "    \"dec\",\n",
    "]\n",
    "\n",
    "# assign a nice coordinate value for year\n",
    "year_month[\"year\"] = [2013, 2014]\n",
    "\n",
    "# seasonal cycle for two years\n",
    "year_month.sel(lon=250).plot.contourf(col=\"year\", x=\"month\", y=\"lat\")\n",
    "```\n",
    ":::\n",
    "::::"
   ]
  },
  {
   "cell_type": "markdown",
   "id": "52",
   "metadata": {},
   "source": [
    "::::{admonition} Exercise\n",
    ":class: tip\n",
    "Calculate the rolling 4 month average, averaged across years. (This exercise came up during a live lecture).\n",
    "\n",
    ":::{admonition} Solution\n",
    ":class: dropdown\n",
    "\n",
    "1. We first reshape using `coarsen.construct` to add `year` as a new dimension.\n",
    "2. Apply `rolling` on the month dimension.\n",
    "3. It turns out that `roll.mean([\"year\", \"month\"])` doesn't work. So we use `roll.construct` to get a DataArray with a new dimension `window` and then take the mean over `window` and `year`\n",
    "\n",
    "```python\n",
    "reshaped = months.coarsen(time=12).construct(time=(\"year\", \"month\"))\n",
    "roll = reshaped.rolling(month=4, center=True)\n",
    "roll.construct(\"window\").mean([\"window\", \"year\"])\n",
    "```\n",
    ":::\n",
    "::::"
   ]
  },
  {
   "cell_type": "markdown",
   "id": "53",
   "metadata": {},
   "source": [
    "### Summary\n",
    "\n",
    "Delete your `for` loops. Use `rolling` and `coarsen` for fixed size windowing operations.\n",
    "\n",
    "1. `rolling` for overlapping windows\n",
    "1. `coarsen` for non-overlapping windows.\n",
    "\n",
    "Both provide the usual reductions as methods (`.mean()` and friends), and also\n",
    "`reduce` and `construct` for custom operations.\n"
   ]
  },
  {
   "cell_type": "markdown",
   "id": "54",
   "metadata": {
    "slideshow": {
     "slide_type": "slide"
    },
    "tags": []
   },
   "source": [
    "***\n",
    "\n",
    "## Label space \"windows\" or bins : GroupBy\n",
    "\n",
    "Sometimes the windows you want are not regularly spaced or even defined by a grid.\n",
    "For instance, grouping data by month (which have varying numbers of days) or the results of an image classification.\n",
    "The GroupBy functions are essentially a generalization of `coarsen`: \n",
    "\n",
    "- `groupby`: divide data into distinct groups, e.g. climatologies, composites. Works best when the \"group identifiers\" or \"labels\" are exact and can be determined using equality (`==`), e.g. characters or integers. Remember that floats are not exact values.\n",
    "- `groupby_bins`: Use binning operations, e.g. histograms, to group your data.\n",
    "- `resample`: Specialized implementation of GroupBy specifically for time grouping (so far), allows you to change sampling frequency of dataset.\n",
    "\n",
    "\n",
    "```{note}\n",
    " Both `groupby_bins` and `resample` are implemented as `groupby` with a specific way of constructing group labels. The GroupBy pattern is very flexible!\n",
    "```\n",
    "\n",
    "\n",
    "### Deconstructing GroupBy\n",
    "\n",
    "The GroupBy workflow is commonly called \"split-apply-combine\".\n",
    "\n",
    "1. *Split* : break dataset into groups\n",
    "1. *Apply* : apply an operation, for instance a reduction like `mean`\n",
    "1. *Combine* : concatenate results from apply step along a new \"group\" dimension\n",
    "\n",
    "illustrated in this neat schematic from [Project Pythia](https://foundations.projectpythia.org/core/xarray/computation-masking.html#groupby-split-apply-combine):\n",
    "<img src=\"https://raw.githubusercontent.com/ProjectPythia/pythia-foundations/refs/heads/main/core/xarray/images/xarray-split-apply-combine.jpeg\" width=30%>\n",
    "\n",
    "But really there is a \"hidden\" first step: *identifying* groups (also called \"factorization\" or sometimes \"binning\"). Usually this is the hard part.\n",
    "\n",
    "In reality the workflow is: \"identify groups\" → \"split into groups\" → \"apply function\" → \"combine results\".\n"
   ]
  },
  {
   "cell_type": "code",
   "execution_count": null,
   "id": "55",
   "metadata": {},
   "outputs": [],
   "source": [
    "# recall our earlier DataArray\n",
    "da"
   ]
  },
  {
   "cell_type": "code",
   "execution_count": null,
   "id": "56",
   "metadata": {},
   "outputs": [],
   "source": [
    "# GroupBy returns an iterator that traverses the specified groups, here by month.\n",
    "# Notice that groupby is clever enough for us to leave out the `.dt` before `.month`\n",
    "# we would need to specify to access the month data directly, as in `da.time.dt.month`.\n",
    "da.groupby(\"time.month\")"
   ]
  },
  {
   "cell_type": "code",
   "execution_count": null,
   "id": "57",
   "metadata": {},
   "outputs": [],
   "source": [
    "# for each group (e.g. the air temperature in a given month for all the years),\n",
    "# compute the mean\n",
    "da.groupby(\"time.month\").mean()"
   ]
  },
  {
   "cell_type": "markdown",
   "id": "58",
   "metadata": {},
   "source": [
    "Notice that since we have averaged over all the years for each month, our resulting DataArray no longer has a \"year\" coordinate.\n",
    "\n",
    "If we want to see how Xarray identifies \"groups\" for the monthly climatology computation, we can plot our input to `groupby`. GroupBy is clever enough to figure out how many values there are an thus how many groups to make.\n"
   ]
  },
  {
   "cell_type": "code",
   "execution_count": null,
   "id": "59",
   "metadata": {},
   "outputs": [],
   "source": [
    "da[\"time.month\"].plot();"
   ]
  },
  {
   "cell_type": "markdown",
   "id": "60",
   "metadata": {},
   "source": [
    "Similarly for binning (remember this is useful when the parameter you are binning over is not \"exact\", like a float),\n"
   ]
  },
  {
   "cell_type": "code",
   "execution_count": null,
   "id": "61",
   "metadata": {},
   "outputs": [],
   "source": [
    "data.groupby_bins(\"lat\", bins=[20, 35, 40, 45, 50])"
   ]
  },
  {
   "cell_type": "markdown",
   "id": "62",
   "metadata": {},
   "source": [
    "and resampling...\n"
   ]
  },
  {
   "cell_type": "code",
   "execution_count": null,
   "id": "63",
   "metadata": {},
   "outputs": [],
   "source": [
    "da.resample(time=\"ME\")"
   ]
  },
  {
   "cell_type": "markdown",
   "id": "64",
   "metadata": {},
   "source": [
    "```{note}\n",
    "\n",
    "Resampling is changing the frequency of our data to monthly (for two years), so we have 24 bins. GroupBy is taking the average across all data in the same month for two years, so we have 12 bins.\n",
    "\n",
    "```"
   ]
  },
  {
   "cell_type": "markdown",
   "id": "65",
   "metadata": {
    "slideshow": {
     "slide_type": "subslide"
    },
    "tags": []
   },
   "source": [
    "### Constructing group labels\n",
    "\n",
    "If the automatic group detection doesn't work for your problem then these functions are useful for constructing specific \"group labels\" in many cases\n",
    "\n",
    "1. [numpy.digitize](<inv:numpy:py:function:#*numpy.digitize>)\n",
    "   for binning\n",
    "1. [numpy.searchsorted](<inv:numpy:py:function:#*numpy.searchsorted>)\n",
    "   supports many other data types\n",
    "1. [pandas.factorize](<inv:pandas:py:function:#*pandas.factorize>)\n",
    "   supports characters, strings etc.\n",
    "1. [pandas.cut](<inv:pandas:py:function:#*pandas.cut>)\n",
    "   for binning\n",
    "1. [\"Datetime components\"](<inv:xarray#*indexing-using-datetime-components>) of Xarray DataArrays\n",
    "1. [DataArray.isin](<inv:xarray:py:method:#*.DataArray.isin>)\n",
    "1. [scipy.ndimage.label](<inv:scipy:py:function:#*scipy.ndimage.label>)\n",
    "1. Do you know of any more? (Send in a pull request to update this list!)\n",
    "\n",
    "\n",
    "```{tip}\n",
    "Xarray uses `pandas.factorize` for `groupby` and `pandas.cut` for `groupby_bins`.\n",
    "```"
   ]
  },
  {
   "cell_type": "markdown",
   "id": "66",
   "metadata": {
    "slideshow": {
     "slide_type": "subslide"
    },
    "tags": []
   },
   "source": [
    "#### \"Datetime components\" for creating groups\n",
    "\n",
    "See a full list [here](<inv:xarray:py:class#*DatetimeAccessor>)\n",
    "\n",
    "These can be accessed in a few different ways as illustrated below.\n"
   ]
  },
  {
   "cell_type": "code",
   "execution_count": null,
   "id": "67",
   "metadata": {
    "tags": []
   },
   "outputs": [],
   "source": [
    "da.time"
   ]
  },
  {
   "cell_type": "code",
   "execution_count": null,
   "id": "68",
   "metadata": {},
   "outputs": [],
   "source": [
    "da.time.dt.day"
   ]
  },
  {
   "cell_type": "code",
   "execution_count": null,
   "id": "69",
   "metadata": {},
   "outputs": [],
   "source": [
    "da[\"time.day\"]"
   ]
  },
  {
   "cell_type": "code",
   "execution_count": null,
   "id": "70",
   "metadata": {},
   "outputs": [],
   "source": [
    "da.time.dt.season"
   ]
  },
  {
   "cell_type": "markdown",
   "id": "71",
   "metadata": {},
   "source": [
    "#### Construct and use custom labels\n",
    "\n",
    "##### Custom seasons with `numpy.isin`.\n",
    "\n",
    "We want to group over four seasons: `DJF`, `MAM`, `JJAS`, `ON` - this makes physical sense in the Indian Ocean basin.\n",
    "\n",
    "Start by extracting months.\n"
   ]
  },
  {
   "cell_type": "code",
   "execution_count": null,
   "id": "72",
   "metadata": {},
   "outputs": [],
   "source": [
    "month = da.time.dt.month.data\n",
    "month"
   ]
  },
  {
   "cell_type": "markdown",
   "id": "73",
   "metadata": {},
   "source": [
    "Create a new empty array\n"
   ]
  },
  {
   "cell_type": "code",
   "execution_count": null,
   "id": "74",
   "metadata": {},
   "outputs": [],
   "source": [
    "myseason = np.full(month.shape, \"    \")\n",
    "myseason"
   ]
  },
  {
   "cell_type": "markdown",
   "id": "75",
   "metadata": {},
   "source": [
    "Use `isin` to assign custom seasons,\n"
   ]
  },
  {
   "cell_type": "code",
   "execution_count": null,
   "id": "76",
   "metadata": {},
   "outputs": [],
   "source": [
    "myseason[np.isin(month, [12, 1, 2])] = \"DJF\"\n",
    "myseason[np.isin(month, [3, 4, 5])] = \"MAM\"\n",
    "myseason[np.isin(month, [6, 7, 8, 9])] = \"JJAS\"\n",
    "myseason[np.isin(month, [10, 11])] = \"ON\""
   ]
  },
  {
   "cell_type": "markdown",
   "id": "77",
   "metadata": {},
   "source": [
    "Turn our new seasonal group array into a DataArray."
   ]
  },
  {
   "cell_type": "code",
   "execution_count": null,
   "id": "78",
   "metadata": {},
   "outputs": [],
   "source": [
    "myseason_da = da.time.copy(data=myseason)\n",
    "myseason_da"
   ]
  },
  {
   "cell_type": "code",
   "execution_count": null,
   "id": "79",
   "metadata": {},
   "outputs": [],
   "source": [
    "(\n",
    "    # Calculate climatology\n",
    "    da.groupby(myseason_da)\n",
    "    .mean()\n",
    "    # reindex to get seasons in logical order (not alphabetical order)\n",
    "    .reindex(time=[\"DJF\", \"MAM\", \"JJAS\", \"ON\"])\n",
    "    .plot(col=\"time\")\n",
    ")"
   ]
  },
  {
   "cell_type": "markdown",
   "id": "80",
   "metadata": {
    "slideshow": {
     "slide_type": "subslide"
    },
    "tags": []
   },
   "source": [
    "##### `floor`, `ceil` and `round` on time\n",
    "\n",
    "Additional functionality in the [datetime accessor](<inv:xarray:py:class#*DatetimeAccessor>) allows us to effectively \"resample\" our time data to remove roundoff errors in timestamps.\n"
   ]
  },
  {
   "cell_type": "code",
   "execution_count": null,
   "id": "81",
   "metadata": {},
   "outputs": [],
   "source": [
    "da.time"
   ]
  },
  {
   "cell_type": "code",
   "execution_count": null,
   "id": "82",
   "metadata": {},
   "outputs": [],
   "source": [
    "# remove roundoff error in timestamps\n",
    "# floor to daily frequency\n",
    "da.time.dt.floor(\"D\")"
   ]
  },
  {
   "cell_type": "markdown",
   "id": "83",
   "metadata": {
    "slideshow": {
     "slide_type": "subslide"
    },
    "tags": []
   },
   "source": [
    "##### `strftime` is another powerful option\n",
    "\n",
    "So useful and so unintuitive that it has its own website: https://strftime.org/\n",
    "\n",
    "This is useful to avoid merging \"Feb-29\" and \"Mar-01\" for a daily climatology\n"
   ]
  },
  {
   "cell_type": "code",
   "execution_count": null,
   "id": "84",
   "metadata": {},
   "outputs": [],
   "source": [
    "da.time.dt.strftime(\"%b-%d\")"
   ]
  },
  {
   "cell_type": "markdown",
   "id": "85",
   "metadata": {
    "tags": []
   },
   "source": [
    "### Custom reductions with `GroupBy.reduce`\n",
    "\n",
    "Analogous to `rolling`, `reduce` and `map` apply custom reductions to `groupby_bins` and `resample`.\n"
   ]
  },
  {
   "cell_type": "code",
   "execution_count": null,
   "id": "86",
   "metadata": {},
   "outputs": [],
   "source": [
    "(da.groupby(\"time.month\").reduce(np.ptp).plot(col=\"month\", col_wrap=4))"
   ]
  },
  {
   "cell_type": "markdown",
   "id": "87",
   "metadata": {},
   "source": [
    "```{tip}\n",
    " `map` is for functions that expect and return xarray objects (see also [`Dataset.map`](https://docs.xarray.dev/en/stable/generated/xarray.Dataset.map.html)). `reduce` is for functions that expect and return plain arrays (like Numpy or SciPy functions).\n",
    "```\n"
   ]
  },
  {
   "cell_type": "markdown",
   "id": "88",
   "metadata": {
    "tags": []
   },
   "source": [
    "### Viewing the GroupBy operation on your DataArray or DataSet\n",
    "\n",
    "GroupBy does *not* provide a `construct` method, because all the groups need not be the same \"length\" (e.g. months can have 28, 29, 30, or 31 days).\n",
    "\n",
    "#### Instead looping over groupby objects is possible\n",
    "\n",
    "Because `groupby` returns an iterator that loops over each group, it is easy to loop over groupby objects. You can also iterate over `rolling` and `coarsen` objects, however this approach is usually quite slow.\n",
    "\n",
    "Maybe you want to plot data in each group separately:\n"
   ]
  },
  {
   "cell_type": "code",
   "execution_count": null,
   "id": "89",
   "metadata": {},
   "outputs": [],
   "source": [
    "for label, group in da.groupby(\"time.month\"):\n",
    "    print(label)"
   ]
  },
  {
   "cell_type": "markdown",
   "id": "90",
   "metadata": {},
   "source": [
    "`group` is a DataArray containing data for all December days (because the last printed `label` value is `12`, so the last `group` value is for December)."
   ]
  },
  {
   "cell_type": "code",
   "execution_count": null,
   "id": "91",
   "metadata": {
    "tags": []
   },
   "outputs": [],
   "source": [
    "group"
   ]
  },
  {
   "cell_type": "markdown",
   "id": "92",
   "metadata": {},
   "source": [
    "Maybe you want a histogram of December temperatures?\n"
   ]
  },
  {
   "cell_type": "code",
   "execution_count": null,
   "id": "93",
   "metadata": {},
   "outputs": [],
   "source": [
    "group.plot.hist()"
   ]
  },
  {
   "cell_type": "markdown",
   "id": "94",
   "metadata": {},
   "source": [
    "Remember, this example is just to show how you could operate on each group object in a groupby operation. If we wanted to just explore the December (or March) data, we should just filter for it directly:"
   ]
  },
  {
   "cell_type": "code",
   "execution_count": null,
   "id": "95",
   "metadata": {},
   "outputs": [],
   "source": [
    "da[da[\"time.month\"] == 12].plot.hist()"
   ]
  },
  {
   "cell_type": "markdown",
   "id": "96",
   "metadata": {
    "tags": []
   },
   "source": [
    "#### In most cases, avoid a for loop using `map`\n",
    "\n",
    "`map` enables us to apply functions that expect xarray Datasets or DataArrays. This makes it easy to perform calculations on the grouped data, add the results from each group back to the original object, and avoid having to manually combine results (using concat).\n",
    "\n",
    "\n",
    "```{tip}\n",
    "The implementation of `map` *is* a `for` loop. We like `map` because it's cleaner.\n",
    "```"
   ]
  },
  {
   "cell_type": "code",
   "execution_count": null,
   "id": "97",
   "metadata": {
    "tags": []
   },
   "outputs": [],
   "source": [
    "def iqr(gb_da, dim):\n",
    "    \"\"\"Calculates interquartile range\"\"\"\n",
    "    return (gb_da.quantile(q=0.75, dim=dim) - gb_da.quantile(q=0.25, dim=dim)).rename(\"iqr\")\n",
    "\n",
    "\n",
    "da.groupby(\"time.month\").map(iqr, dim=\"time\")"
   ]
  },
  {
   "cell_type": "markdown",
   "id": "98",
   "metadata": {},
   "source": [
    "***"
   ]
  },
  {
   "cell_type": "markdown",
   "id": "99",
   "metadata": {},
   "source": [
    "## Summary\n",
    "\n",
    "Xarray provides methods for high-level analysis patterns:\n",
    "\n",
    "1. [`rolling`](<inv:xarray#*rolling-window-operations>) :\n",
    "   Operate on rolling or sliding (fixed length, overlapping) windows of your data e.g. running mean.\n",
    "1. [`coarsen`](<inv:xarray#*coarsen-large-arrays>) :\n",
    "   Operate on blocks (fixed length) of your data (downsample).\n",
    "1. [`groupby`](<inv:xarray:py:method:#*.DataArray.groupby>) :\n",
    "   Parse data into groups (using an exact value) and operate on each one (reduce data).\n",
    "1. [`groupby_bins`](<inv:xarray:py:method:#*.DataArray.groupby_bins>): GroupBy after discretizing a numeric (non-exact, e.g. float) variable.\n",
    "1. [`resample`](<inv:xarray#*resampling-and-grouped-operations>) :\n",
    "   [Groupby specialized for time axes. Either downsample or upsample your data.]\n",
    "1. [`weighted`](<inv:xarray#*weighted-array-reductions>): Weight your data before reducing.\n",
    "\n",
    "Xarray also provides a consistent interface to make using those patterns easy:\n",
    "\n",
    "1. Iterate over the operators (`rolling`, `coarsen`, `groupby`, `groupby_bins`, `resample`).\n",
    "1. Apply functions that accept numpy-like arrays with `reduce`.\n",
    "1. Reshape to a new xarray object with `.construct` (`rolling`, `coarsen` only).\n",
    "1. Apply functions that accept xarray objects with `map` (`groupby`, `groupby_bins`, `resample` only).\n"
   ]
  }
 ],
 "metadata": {
  "language_info": {
   "codemirror_mode": {
    "name": "ipython",
    "version": 3
   },
   "file_extension": ".py",
   "mimetype": "text/x-python",
   "name": "python",
   "nbconvert_exporter": "python",
   "pygments_lexer": "ipython3"
  }
 },
 "nbformat": 4,
 "nbformat_minor": 5
}
