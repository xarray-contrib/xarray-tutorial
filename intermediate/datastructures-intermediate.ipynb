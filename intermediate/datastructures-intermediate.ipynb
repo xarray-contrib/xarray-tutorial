{
 "cells": [
  {
   "attachments": {},
   "cell_type": "markdown",
   "metadata": {},
   "source": [
    "# Intermediate Xarray DataStructures\n",
    "<img src=\"https://docs.xarray.dev/en/stable/_static/Xarray_Logo_RGB_Final.svg\" align=\"right\" width=\"30%\">\n",
    "\n",
    "\n",
    "In this lesson, we cover the basics of Xarray data structures. By the\n",
    "end of the lesson, we will be able to:\n",
    "\n",
    "- Understand the basic data structures in Xarray\n",
    "- Inspect `DataArray` and `Dataset` objects.\n",
    "- Select Data using Dataset Coordinates\n",
    "- Understand that these Datastructures generalize across fields\n",
    "\n",
    "\n",
    "We'll start by reviewing the various components of the Xarray data model, represented here visually:\n",
    "\n",
    "<img src=\"https://docs.xarray.dev/en/stable/_images/dataset-diagram.png\" align=\"center\" width=\"50%\">\n",
    "\n",
    "\n",
    "\n",
    "## Variable\n",
    "\n",
    "At the the core of everything Xarray works with Variables:\n",
    "\n",
    "Variables hold arbitrary metadata, dimension names, and an Array of data\n",
    "\n",
    "![image.png](../_static/variable.png)\n",
    "\n",
    "## DataArray\n",
    "\n",
    "A DataArray is lowest level object you will regularly interact with. It is a collection of 1 variable containing the data, and optionally Variables associated with the dimensions (coords)\n",
    "\n",
    "![image.png](../_static/dataarray.png)\n",
    "\n",
    "\n",
    "## Dataset\n",
    "\n",
    "A Dataset is also a collection of Variables. However it can contain multiple data variables. All dimensions MUST be compatible. When we access one of the data variables a DataArray will automatically created for us.\n",
    "\n",
    "![image.png](../_static/dataset.png)"
   ]
  },
  {
   "cell_type": "code",
   "execution_count": null,
   "metadata": {},
   "outputs": [],
   "source": [
    "import matplotlib.pyplot as plt\n",
    "import numpy as np\n",
    "import xarray as xr"
   ]
  },
  {
   "cell_type": "markdown",
   "metadata": {},
   "source": [
    "Xarray has a few small real-world tutorial datasets hosted in the [xarray-data](https://github.com/pydata/xarray-data) GitHub repository.\n",
    "\n",
    "[xarray.tutorial.load_dataset](https://docs.xarray.dev/en/stable/generated/xarray.tutorial.open_dataset.html#xarray.tutorial.open_dataset) is a convenience function to download and open DataSets by name (listed at that link).\n",
    "\n",
    "Here we'll use `air temperature` from the [National Center for Environmental Prediction](https://www.weather.gov/ncep/). Xarray objects have convenient HTML representations to give an overview of what we're working with:"
   ]
  },
  {
   "cell_type": "code",
   "execution_count": null,
   "metadata": {},
   "outputs": [],
   "source": [
    "ds = xr.tutorial.load_dataset(\"air_temperature\")\n",
    "ds"
   ]
  },
  {
   "cell_type": "markdown",
   "metadata": {},
   "source": [
    "Note that behind the scenes the `tutorial.open_dataset` downloads a file. It then uses [`xarray.open_dataset`](https://docs.xarray.dev/en/stable/generated/xarray.open_dataset.html#xarray-open-dataset) function to open that file (which for this datasets is a [netCDF](https://www.unidata.ucar.edu/software/netcdf/) file). \n",
    "\n",
    "\n",
    "As a preview of the power of Xarray, using this data structure allows us to make very readable and powerful statements such as:"
   ]
  },
  {
   "cell_type": "code",
   "execution_count": null,
   "metadata": {},
   "outputs": [],
   "source": [
    "ds.air.mean(dim=\"time\").plot(x=\"lon\")"
   ]
  },
  {
   "cell_type": "markdown",
   "metadata": {},
   "source": [
    "## What's in a Dataset? \n",
    "\n",
    "*Many DataArrays!* \n",
    "\n",
    "Datasets are dictionary-like containers of \"DataArray\"s. They are a mapping of\n",
    "variable name to DataArray:"
   ]
  },
  {
   "cell_type": "code",
   "execution_count": null,
   "metadata": {},
   "outputs": [],
   "source": [
    "# pull out \"air\" dataarray with dictionary syntax\n",
    "ds[\"air\"]"
   ]
  },
  {
   "cell_type": "markdown",
   "metadata": {},
   "source": [
    "You can save some typing by using the \"attribute\" or \"dot\" notation. This won't\n",
    "work for variable names that clash with a built-in method name (like `mean` for\n",
    "example).\n"
   ]
  },
  {
   "cell_type": "code",
   "execution_count": null,
   "metadata": {},
   "outputs": [],
   "source": [
    "# pull out dataarray using dot notation\n",
    "ds.air"
   ]
  },
  {
   "cell_type": "markdown",
   "metadata": {},
   "source": [
    "## What's in a DataArray? \n",
    "\n",
    "*data + (a lot of) metadata*"
   ]
  },
  {
   "cell_type": "markdown",
   "metadata": {},
   "source": [
    "### Name (optional)"
   ]
  },
  {
   "cell_type": "code",
   "execution_count": null,
   "metadata": {},
   "outputs": [],
   "source": [
    "da = ds.air\n",
    "\n",
    "da.name"
   ]
  },
  {
   "cell_type": "markdown",
   "metadata": {},
   "source": [
    "### Named dimensions \n",
    "\n",
    "`.dims` correspond to the axes of your data. \n",
    "\n",
    "In this case we have 2 spatial dimensions (`latitude` and `longitude` are stored with shorthand names `lat` and `lon`) and one temporal dimension (`time`)."
   ]
  },
  {
   "cell_type": "code",
   "execution_count": null,
   "metadata": {},
   "outputs": [],
   "source": [
    "da.dims"
   ]
  },
  {
   "cell_type": "markdown",
   "metadata": {},
   "source": [
    "### Coordinate variables \n",
    "\n",
    "`.coords` is a simple [data container](https://docs.xarray.dev/en/stable/user-guide/data-structures.html#coordinates)\n",
    "for coordinate variables.\n",
    "\n",
    "Here we see the actual timestamps and spatial positions of our air temperature data:"
   ]
  },
  {
   "cell_type": "code",
   "execution_count": null,
   "metadata": {},
   "outputs": [],
   "source": [
    "da.coords"
   ]
  },
  {
   "cell_type": "markdown",
   "metadata": {},
   "source": [
    "Coordinates objects support similar indexing notation\n"
   ]
  },
  {
   "cell_type": "code",
   "execution_count": null,
   "metadata": {},
   "outputs": [],
   "source": [
    "# extracting coordinate variables\n",
    "da.lon"
   ]
  },
  {
   "cell_type": "code",
   "execution_count": null,
   "metadata": {},
   "outputs": [],
   "source": [
    "# extracting coordinate variables from .coords\n",
    "da.coords[\"lon\"]"
   ]
  },
  {
   "cell_type": "markdown",
   "metadata": {},
   "source": [
    "It is useful to think of the values in these coordinate variables as axis\n",
    "\"labels\" such as \"tick labels\" in a figure. These are coordinate locations on a\n",
    "grid at which you have data.\n"
   ]
  },
  {
   "cell_type": "markdown",
   "metadata": {},
   "source": [
    "### Arbitrary attributes \n",
    "\n",
    "`.attrs` is a dictionary that can contain arbitrary Python objects (strings, lists, integers, dictionaries, etc.) Your only\n",
    "limitation is that some attributes may not be writeable to certain file formats."
   ]
  },
  {
   "cell_type": "code",
   "execution_count": null,
   "metadata": {},
   "outputs": [],
   "source": [
    "da.attrs"
   ]
  },
  {
   "cell_type": "code",
   "execution_count": null,
   "metadata": {},
   "outputs": [],
   "source": [
    "# assign your own attributes!\n",
    "da.attrs[\"who_is_awesome\"] = \"xarray\"\n",
    "da.attrs"
   ]
  },
  {
   "cell_type": "code",
   "execution_count": null,
   "metadata": {},
   "outputs": [],
   "source": [
    "da"
   ]
  },
  {
   "cell_type": "markdown",
   "metadata": {},
   "source": [
    "### Underlying data \n",
    "\n",
    "`.data` contains the [numpy array](https://numpy.org) storing air temperature values.\n",
    "\n",
    "<img src=\"https://raw.githubusercontent.com/numpy/numpy/623bc1fae1d47df24e7f1e29321d0c0ba2771ce0/branding/logo/primary/numpylogo.svg\" width=\"25%\">\n",
    "\n",
    "Xarray structures wrap underlying simpler array-like data structures. This part of Xarray is quite extensible allowing for distributed array, GPU arrays, sparse arrays, arrays with units etc. We'll  briefly look at this later in this tutorial."
   ]
  },
  {
   "cell_type": "code",
   "execution_count": null,
   "metadata": {},
   "outputs": [],
   "source": [
    "da.data"
   ]
  },
  {
   "cell_type": "code",
   "execution_count": null,
   "metadata": {},
   "outputs": [],
   "source": [
    "# what is the type of the underlying data\n",
    "type(da.data)"
   ]
  },
  {
   "attachments": {},
   "cell_type": "markdown",
   "metadata": {},
   "source": [
    "### Review\n",
    "\n",
    "Two of Xarray's main data structures are:\n",
    "\n",
    "1. [`DataArrays`](https://docs.xarray.dev/en/stable/user-guide/data-structures.html#dataarray) that wrap underlying data containers (e.g. numpy arrays) and contain associated metadata\n",
    "1. [`Datasets`](https://docs.xarray.dev/en/stable/user-guide/data-structures.html#dataset) that are dictionary-like containers of DataArrays\n",
    "\n",
    "DataArrays contain underlying arrays and associated metadata:\n",
    "1. Name\n",
    "2. Dimension names\n",
    "3. Coordinate variables\n",
    "4. and arbitrary attributes.\n",
    "\n",
    "![image.png](../_static/variable.png)\n",
    "\n",
    "![image.png](../_static/dataarray.png)\n",
    "\n",
    "![image.png](../_static/dataset.png)\n",
    "\n",
    "\n",
    "<img src=\"https://docs.xarray.dev/en/stable/_images/dataset-diagram.png\" align=\"center\" width=\"50%\">"
   ]
  },
  {
   "cell_type": "markdown",
   "metadata": {},
   "source": [
    "## Exercise\n",
    "\n",
    "In this exercise the air dataset has been deconstructed into a dictionary of NumPy arrays. Please\n",
    "\n",
    "- Build a Dataset from scratch from this dictionary of NumPy arrays.\n",
    "\n",
    "\n",
    "Hint: You will want to start by building DataArrays, then combining them into a Dataset.\n"
   ]
  },
  {
   "cell_type": "code",
   "execution_count": null,
   "metadata": {},
   "outputs": [],
   "source": [
    "def air_as_dictionary():\n",
    "    ds = xr.tutorial.open_dataset(\"air_temperature\")\n",
    "    return {\n",
    "        'lat': ds['lat'].values,\n",
    "        'lon': ds['lon'].values,\n",
    "        'attrs': ds.attrs,\n",
    "        'time': ds['time'].values,\n",
    "        'air-temp': ds['air'].values,\n",
    "    }\n",
    "\n",
    "\n",
    "data = air_as_dictionary()\n",
    "\n",
    "\n",
    "# Your code here"
   ]
  },
  {
   "cell_type": "markdown",
   "metadata": {},
   "source": [
    "## Why Xarray? \n",
    "\n",
    "Metadata provides context and provides code that is more legible. This reduces the likelihood of errors from typos and makes analysis more intuitive and fun!\n",
    "\n",
    "### Analysis without xarray: `X(`"
   ]
  },
  {
   "cell_type": "code",
   "execution_count": null,
   "metadata": {},
   "outputs": [],
   "source": [
    "# plot the first timestep\n",
    "lat = ds.air.lat.data  # numpy array\n",
    "lon = ds.air.lon.data  # numpy array\n",
    "temp = ds.air.data  # numpy array"
   ]
  },
  {
   "cell_type": "code",
   "execution_count": null,
   "metadata": {},
   "outputs": [],
   "source": [
    "plt.figure()\n",
    "plt.pcolormesh(lon, lat, temp[0, :, :]);"
   ]
  },
  {
   "cell_type": "code",
   "execution_count": null,
   "metadata": {},
   "outputs": [],
   "source": [
    "temp.mean(axis=1)  ## what did I just do? I can't tell by looking at this line."
   ]
  },
  {
   "cell_type": "markdown",
   "metadata": {},
   "source": [
    "### Analysis with xarray `=)`\n",
    "\n",
    "How readable is this code?\n"
   ]
  },
  {
   "cell_type": "code",
   "execution_count": null,
   "metadata": {},
   "outputs": [],
   "source": [
    "ds.air.isel(time=0).plot(x=\"lon\");"
   ]
  },
  {
   "cell_type": "markdown",
   "metadata": {},
   "source": [
    "Use dimension names instead of axis numbers\n"
   ]
  },
  {
   "cell_type": "code",
   "execution_count": null,
   "metadata": {},
   "outputs": [],
   "source": [
    "ds.air.mean(dim=\"time\").plot(x=\"lon\")"
   ]
  },
  {
   "cell_type": "markdown",
   "metadata": {},
   "source": [
    "---\n",
    "\n",
    "## Extracting data or \"indexing\" \n",
    "\n",
    "Xarray supports\n",
    "\n",
    "- label-based indexing using `.sel`\n",
    "- position-based indexing using `.isel`\n",
    "\n",
    "See the [user guide](https://docs.xarray.dev/en/stable/indexing.html) for more."
   ]
  },
  {
   "cell_type": "markdown",
   "metadata": {},
   "source": [
    "### Label-based indexing\n",
    "\n",
    "Xarray inherits its label-based indexing rules from pandas; this means great\n",
    "support for dates and times!\n"
   ]
  },
  {
   "cell_type": "code",
   "execution_count": null,
   "metadata": {},
   "outputs": [],
   "source": [
    "# here's what ds looks like\n",
    "ds"
   ]
  },
  {
   "cell_type": "code",
   "execution_count": null,
   "metadata": {},
   "outputs": [],
   "source": [
    "# pull out data for all of 2013-May\n",
    "ds.sel(time=\"2013-05\")"
   ]
  },
  {
   "cell_type": "code",
   "execution_count": null,
   "metadata": {},
   "outputs": [],
   "source": [
    "# demonstrate slicing\n",
    "ds.sel(time=slice(\"2013-05\", \"2013-07\"))"
   ]
  },
  {
   "cell_type": "code",
   "execution_count": null,
   "metadata": {},
   "outputs": [],
   "source": [
    "ds.sel(time=\"2013\")"
   ]
  },
  {
   "cell_type": "code",
   "execution_count": null,
   "metadata": {},
   "outputs": [],
   "source": [
    "# demonstrate \"nearest\" indexing\n",
    "ds.sel(lon=240.2, method=\"nearest\")"
   ]
  },
  {
   "cell_type": "code",
   "execution_count": null,
   "metadata": {},
   "outputs": [],
   "source": [
    "# \"nearest indexing at multiple points\"\n",
    "ds.sel(lon=[240.125, 234], lat=[40.3, 50.3], method=\"nearest\")"
   ]
  },
  {
   "cell_type": "markdown",
   "metadata": {},
   "source": [
    "### Position-based indexing\n",
    "\n",
    "This is similar to your usual numpy `array[0, 2, 3]` but with the power of named\n",
    "dimensions!\n"
   ]
  },
  {
   "cell_type": "code",
   "execution_count": null,
   "metadata": {},
   "outputs": [],
   "source": [
    "ds.air.data[0, 2, 3]"
   ]
  },
  {
   "cell_type": "code",
   "execution_count": null,
   "metadata": {},
   "outputs": [],
   "source": [
    "# pull out time index 0, lat index 2, and lon index 3\n",
    "ds.air.isel(time=0, lat=2, lon=3)  #  much better than ds.air[0, 2, 3]"
   ]
  },
  {
   "cell_type": "code",
   "execution_count": null,
   "metadata": {},
   "outputs": [],
   "source": [
    "# demonstrate slicing\n",
    "ds.air.isel(lat=slice(10))"
   ]
  },
  {
   "cell_type": "markdown",
   "metadata": {},
   "source": [
    "## Other field DataStructures\n",
    "\n",
    "\n",
    "Link to next notebook: [Data structures In Biology](./BiologyDataset.ipynb)"
   ]
  },
  {
   "cell_type": "markdown",
   "metadata": {},
   "source": [
    "## Exercise\n",
    "\n",
    "Dataset of non-alignable data.\n",
    "\n",
    "For this exercise we will be using the `\"precipitation\"` example data. This data has two parts observed rainfall (`observed`), and predicted rainfall, on a different lat-lon grid. The next cell calls a function that will give you two different Datasets. Try to combine them using the tools we've discussed thus far and observe what goes wrong.\n"
   ]
  },
  {
   "cell_type": "code",
   "execution_count": null,
   "metadata": {},
   "outputs": [],
   "source": [
    "tree = xr.tutorial.open_datatree('precipitation.nc4')\n",
    "reanalysis = xr.Dataset(tree['observed'])\n",
    "observed = xr.Dataset(tree['reanalysis'])"
   ]
  },
  {
   "cell_type": "code",
   "execution_count": null,
   "metadata": {},
   "outputs": [],
   "source": []
  },
  {
   "cell_type": "markdown",
   "metadata": {},
   "source": [
    "For more see the [user guide](https://docs.xarray.dev/en/stable/plotting.html), the [gallery](https://docs.xarray.dev/en/stable/examples/visualization_gallery.html), and [the tutorial material](https://tutorial.xarray.dev/fundamentals/04.0_plotting.html)."
   ]
  },
  {
   "cell_type": "markdown",
   "metadata": {},
   "source": []
  },
  {
   "cell_type": "markdown",
   "metadata": {},
   "source": []
  },
  {
   "cell_type": "code",
   "execution_count": null,
   "metadata": {},
   "outputs": [],
   "source": []
  },
  {
   "cell_type": "code",
   "execution_count": null,
   "metadata": {},
   "outputs": [],
   "source": []
  }
 ],
 "metadata": {
  "language_info": {
   "codemirror_mode": {
    "name": "ipython",
    "version": 3
   },
   "file_extension": ".py",
   "mimetype": "text/x-python",
   "name": "python",
   "nbconvert_exporter": "python",
   "pygments_lexer": "ipython3"
  },
  "toc": {
   "base_numbering": 1,
   "nav_menu": {},
   "number_sections": true,
   "sideBar": true,
   "skip_h1_title": false,
   "title_cell": "Table of Contents",
   "title_sidebar": "Contents",
   "toc_cell": true,
   "toc_position": {},
   "toc_section_display": true,
   "toc_window_display": true
  }
 },
 "nbformat": 4,
 "nbformat_minor": 4
}
